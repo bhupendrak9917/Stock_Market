{
 "cells": [
  {
   "cell_type": "markdown",
   "id": "045e04ea",
   "metadata": {},
   "source": [
    "# MACD- Moving Average Convergence Divergence"
   ]
  },
  {
   "cell_type": "code",
   "execution_count": 1,
   "id": "11850b96",
   "metadata": {},
   "outputs": [],
   "source": [
    "import pandas as pd\n",
    "import matplotlib.pyplot as plt"
   ]
  },
  {
   "cell_type": "code",
   "execution_count": 3,
   "id": "b766688b",
   "metadata": {},
   "outputs": [
    {
     "data": {
      "text/html": [
       "<div>\n",
       "<style scoped>\n",
       "    .dataframe tbody tr th:only-of-type {\n",
       "        vertical-align: middle;\n",
       "    }\n",
       "\n",
       "    .dataframe tbody tr th {\n",
       "        vertical-align: top;\n",
       "    }\n",
       "\n",
       "    .dataframe thead th {\n",
       "        text-align: right;\n",
       "    }\n",
       "</style>\n",
       "<table border=\"1\" class=\"dataframe\">\n",
       "  <thead>\n",
       "    <tr style=\"text-align: right;\">\n",
       "      <th></th>\n",
       "      <th>date</th>\n",
       "      <th>time</th>\n",
       "      <th>open</th>\n",
       "      <th>high</th>\n",
       "      <th>low</th>\n",
       "      <th>close</th>\n",
       "      <th>volume</th>\n",
       "    </tr>\n",
       "  </thead>\n",
       "  <tbody>\n",
       "    <tr>\n",
       "      <th>0</th>\n",
       "      <td>2022-11-11</td>\n",
       "      <td>09:15:00</td>\n",
       "      <td>42350.0</td>\n",
       "      <td>42350.00</td>\n",
       "      <td>42184.05</td>\n",
       "      <td>42224.9</td>\n",
       "      <td>343725</td>\n",
       "    </tr>\n",
       "    <tr>\n",
       "      <th>1</th>\n",
       "      <td>2022-11-11</td>\n",
       "      <td>09:18:00</td>\n",
       "      <td>42221.1</td>\n",
       "      <td>42248.30</td>\n",
       "      <td>42191.80</td>\n",
       "      <td>42248.3</td>\n",
       "      <td>96225</td>\n",
       "    </tr>\n",
       "    <tr>\n",
       "      <th>2</th>\n",
       "      <td>2022-11-11</td>\n",
       "      <td>09:21:00</td>\n",
       "      <td>42244.9</td>\n",
       "      <td>42247.35</td>\n",
       "      <td>42190.00</td>\n",
       "      <td>42195.1</td>\n",
       "      <td>70925</td>\n",
       "    </tr>\n",
       "    <tr>\n",
       "      <th>3</th>\n",
       "      <td>2022-11-11</td>\n",
       "      <td>09:24:00</td>\n",
       "      <td>42196.1</td>\n",
       "      <td>42218.95</td>\n",
       "      <td>42196.15</td>\n",
       "      <td>42203.2</td>\n",
       "      <td>60375</td>\n",
       "    </tr>\n",
       "    <tr>\n",
       "      <th>4</th>\n",
       "      <td>2022-11-11</td>\n",
       "      <td>09:27:00</td>\n",
       "      <td>42203.4</td>\n",
       "      <td>42209.15</td>\n",
       "      <td>42171.90</td>\n",
       "      <td>42176.6</td>\n",
       "      <td>72425</td>\n",
       "    </tr>\n",
       "    <tr>\n",
       "      <th>...</th>\n",
       "      <td>...</td>\n",
       "      <td>...</td>\n",
       "      <td>...</td>\n",
       "      <td>...</td>\n",
       "      <td>...</td>\n",
       "      <td>...</td>\n",
       "      <td>...</td>\n",
       "    </tr>\n",
       "    <tr>\n",
       "      <th>120</th>\n",
       "      <td>2022-11-11</td>\n",
       "      <td>15:15:00</td>\n",
       "      <td>42284.0</td>\n",
       "      <td>42293.20</td>\n",
       "      <td>42250.05</td>\n",
       "      <td>42263.1</td>\n",
       "      <td>52600</td>\n",
       "    </tr>\n",
       "    <tr>\n",
       "      <th>121</th>\n",
       "      <td>2022-11-11</td>\n",
       "      <td>15:18:00</td>\n",
       "      <td>42263.1</td>\n",
       "      <td>42274.75</td>\n",
       "      <td>42257.10</td>\n",
       "      <td>42266.1</td>\n",
       "      <td>31500</td>\n",
       "    </tr>\n",
       "    <tr>\n",
       "      <th>122</th>\n",
       "      <td>2022-11-11</td>\n",
       "      <td>15:21:00</td>\n",
       "      <td>42270.8</td>\n",
       "      <td>42306.65</td>\n",
       "      <td>42263.00</td>\n",
       "      <td>42300.0</td>\n",
       "      <td>55350</td>\n",
       "    </tr>\n",
       "    <tr>\n",
       "      <th>123</th>\n",
       "      <td>2022-11-11</td>\n",
       "      <td>15:24:00</td>\n",
       "      <td>42300.0</td>\n",
       "      <td>42305.45</td>\n",
       "      <td>42292.00</td>\n",
       "      <td>42300.6</td>\n",
       "      <td>50325</td>\n",
       "    </tr>\n",
       "    <tr>\n",
       "      <th>124</th>\n",
       "      <td>2022-11-11</td>\n",
       "      <td>15:27:00</td>\n",
       "      <td>42300.4</td>\n",
       "      <td>42303.25</td>\n",
       "      <td>42290.00</td>\n",
       "      <td>42295.0</td>\n",
       "      <td>64350</td>\n",
       "    </tr>\n",
       "  </tbody>\n",
       "</table>\n",
       "<p>125 rows × 7 columns</p>\n",
       "</div>"
      ],
      "text/plain": [
       "           date      time     open      high       low    close  volume\n",
       "0    2022-11-11  09:15:00  42350.0  42350.00  42184.05  42224.9  343725\n",
       "1    2022-11-11  09:18:00  42221.1  42248.30  42191.80  42248.3   96225\n",
       "2    2022-11-11  09:21:00  42244.9  42247.35  42190.00  42195.1   70925\n",
       "3    2022-11-11  09:24:00  42196.1  42218.95  42196.15  42203.2   60375\n",
       "4    2022-11-11  09:27:00  42203.4  42209.15  42171.90  42176.6   72425\n",
       "..          ...       ...      ...       ...       ...      ...     ...\n",
       "120  2022-11-11  15:15:00  42284.0  42293.20  42250.05  42263.1   52600\n",
       "121  2022-11-11  15:18:00  42263.1  42274.75  42257.10  42266.1   31500\n",
       "122  2022-11-11  15:21:00  42270.8  42306.65  42263.00  42300.0   55350\n",
       "123  2022-11-11  15:24:00  42300.0  42305.45  42292.00  42300.6   50325\n",
       "124  2022-11-11  15:27:00  42300.4  42303.25  42290.00  42295.0   64350\n",
       "\n",
       "[125 rows x 7 columns]"
      ]
     },
     "execution_count": 3,
     "metadata": {},
     "output_type": "execute_result"
    }
   ],
   "source": [
    "df = pd.read_csv('futures_banknifty_currentmonth.csv')[[\"date\",\"time\",\"open\",\"high\",\"low\",\"close\",\"volume\"]]\n",
    "df"
   ]
  },
  {
   "cell_type": "code",
   "execution_count": 4,
   "id": "56819da6",
   "metadata": {},
   "outputs": [],
   "source": [
    "def MACD(df):\n",
    "    df['EMA12'] = df.close.ewm(span=12).mean()\n",
    "    df['EMA26'] = df.close.ewm(span=26).mean()\n",
    "    df['MACD'] = df.EMA12 - df.EMA26\n",
    "    df['signal'] = df.MACD.ewm(span=9).mean()\n"
   ]
  },
  {
   "cell_type": "code",
   "execution_count": 5,
   "id": "fa2277db",
   "metadata": {},
   "outputs": [],
   "source": [
    "MACD(df)"
   ]
  },
  {
   "cell_type": "code",
   "execution_count": 6,
   "id": "93b7d5dd",
   "metadata": {},
   "outputs": [
    {
     "data": {
      "text/html": [
       "<div>\n",
       "<style scoped>\n",
       "    .dataframe tbody tr th:only-of-type {\n",
       "        vertical-align: middle;\n",
       "    }\n",
       "\n",
       "    .dataframe tbody tr th {\n",
       "        vertical-align: top;\n",
       "    }\n",
       "\n",
       "    .dataframe thead th {\n",
       "        text-align: right;\n",
       "    }\n",
       "</style>\n",
       "<table border=\"1\" class=\"dataframe\">\n",
       "  <thead>\n",
       "    <tr style=\"text-align: right;\">\n",
       "      <th></th>\n",
       "      <th>date</th>\n",
       "      <th>time</th>\n",
       "      <th>open</th>\n",
       "      <th>high</th>\n",
       "      <th>low</th>\n",
       "      <th>close</th>\n",
       "      <th>volume</th>\n",
       "      <th>EMA12</th>\n",
       "      <th>EMA26</th>\n",
       "      <th>MACD</th>\n",
       "      <th>signal</th>\n",
       "    </tr>\n",
       "  </thead>\n",
       "  <tbody>\n",
       "    <tr>\n",
       "      <th>0</th>\n",
       "      <td>2022-11-11</td>\n",
       "      <td>09:15:00</td>\n",
       "      <td>42350.0</td>\n",
       "      <td>42350.00</td>\n",
       "      <td>42184.05</td>\n",
       "      <td>42224.9</td>\n",
       "      <td>343725</td>\n",
       "      <td>42224.900000</td>\n",
       "      <td>42224.900000</td>\n",
       "      <td>0.000000</td>\n",
       "      <td>0.000000</td>\n",
       "    </tr>\n",
       "    <tr>\n",
       "      <th>1</th>\n",
       "      <td>2022-11-11</td>\n",
       "      <td>09:18:00</td>\n",
       "      <td>42221.1</td>\n",
       "      <td>42248.30</td>\n",
       "      <td>42191.80</td>\n",
       "      <td>42248.3</td>\n",
       "      <td>96225</td>\n",
       "      <td>42237.575000</td>\n",
       "      <td>42237.050000</td>\n",
       "      <td>0.525000</td>\n",
       "      <td>0.291667</td>\n",
       "    </tr>\n",
       "    <tr>\n",
       "      <th>2</th>\n",
       "      <td>2022-11-11</td>\n",
       "      <td>09:21:00</td>\n",
       "      <td>42244.9</td>\n",
       "      <td>42247.35</td>\n",
       "      <td>42190.00</td>\n",
       "      <td>42195.1</td>\n",
       "      <td>70925</td>\n",
       "      <td>42220.996998</td>\n",
       "      <td>42221.977772</td>\n",
       "      <td>-0.980775</td>\n",
       "      <td>-0.229826</td>\n",
       "    </tr>\n",
       "    <tr>\n",
       "      <th>3</th>\n",
       "      <td>2022-11-11</td>\n",
       "      <td>09:24:00</td>\n",
       "      <td>42196.1</td>\n",
       "      <td>42218.95</td>\n",
       "      <td>42196.15</td>\n",
       "      <td>42203.2</td>\n",
       "      <td>60375</td>\n",
       "      <td>42215.379181</td>\n",
       "      <td>42216.728328</td>\n",
       "      <td>-1.349147</td>\n",
       "      <td>-0.608999</td>\n",
       "    </tr>\n",
       "    <tr>\n",
       "      <th>4</th>\n",
       "      <td>2022-11-11</td>\n",
       "      <td>09:27:00</td>\n",
       "      <td>42203.4</td>\n",
       "      <td>42209.15</td>\n",
       "      <td>42171.90</td>\n",
       "      <td>42176.6</td>\n",
       "      <td>72425</td>\n",
       "      <td>42204.843016</td>\n",
       "      <td>42207.422403</td>\n",
       "      <td>-2.579387</td>\n",
       "      <td>-1.195145</td>\n",
       "    </tr>\n",
       "    <tr>\n",
       "      <th>...</th>\n",
       "      <td>...</td>\n",
       "      <td>...</td>\n",
       "      <td>...</td>\n",
       "      <td>...</td>\n",
       "      <td>...</td>\n",
       "      <td>...</td>\n",
       "      <td>...</td>\n",
       "      <td>...</td>\n",
       "      <td>...</td>\n",
       "      <td>...</td>\n",
       "      <td>...</td>\n",
       "    </tr>\n",
       "    <tr>\n",
       "      <th>120</th>\n",
       "      <td>2022-11-11</td>\n",
       "      <td>15:15:00</td>\n",
       "      <td>42284.0</td>\n",
       "      <td>42293.20</td>\n",
       "      <td>42250.05</td>\n",
       "      <td>42263.1</td>\n",
       "      <td>52600</td>\n",
       "      <td>42304.268803</td>\n",
       "      <td>42310.653612</td>\n",
       "      <td>-6.384810</td>\n",
       "      <td>0.383476</td>\n",
       "    </tr>\n",
       "    <tr>\n",
       "      <th>121</th>\n",
       "      <td>2022-11-11</td>\n",
       "      <td>15:18:00</td>\n",
       "      <td>42263.1</td>\n",
       "      <td>42274.75</td>\n",
       "      <td>42257.10</td>\n",
       "      <td>42266.1</td>\n",
       "      <td>31500</td>\n",
       "      <td>42298.396679</td>\n",
       "      <td>42307.353069</td>\n",
       "      <td>-8.956390</td>\n",
       "      <td>-1.484497</td>\n",
       "    </tr>\n",
       "    <tr>\n",
       "      <th>122</th>\n",
       "      <td>2022-11-11</td>\n",
       "      <td>15:21:00</td>\n",
       "      <td>42270.8</td>\n",
       "      <td>42306.65</td>\n",
       "      <td>42263.00</td>\n",
       "      <td>42300.0</td>\n",
       "      <td>55350</td>\n",
       "      <td>42298.643344</td>\n",
       "      <td>42306.808355</td>\n",
       "      <td>-8.165011</td>\n",
       "      <td>-2.820600</td>\n",
       "    </tr>\n",
       "    <tr>\n",
       "      <th>123</th>\n",
       "      <td>2022-11-11</td>\n",
       "      <td>15:24:00</td>\n",
       "      <td>42300.0</td>\n",
       "      <td>42305.45</td>\n",
       "      <td>42292.00</td>\n",
       "      <td>42300.6</td>\n",
       "      <td>50325</td>\n",
       "      <td>42298.944368</td>\n",
       "      <td>42306.348444</td>\n",
       "      <td>-7.404076</td>\n",
       "      <td>-3.737295</td>\n",
       "    </tr>\n",
       "    <tr>\n",
       "      <th>124</th>\n",
       "      <td>2022-11-11</td>\n",
       "      <td>15:27:00</td>\n",
       "      <td>42300.4</td>\n",
       "      <td>42303.25</td>\n",
       "      <td>42290.00</td>\n",
       "      <td>42295.0</td>\n",
       "      <td>64350</td>\n",
       "      <td>42298.337542</td>\n",
       "      <td>42305.507763</td>\n",
       "      <td>-7.170220</td>\n",
       "      <td>-4.423880</td>\n",
       "    </tr>\n",
       "  </tbody>\n",
       "</table>\n",
       "<p>125 rows × 11 columns</p>\n",
       "</div>"
      ],
      "text/plain": [
       "           date      time     open      high       low    close  volume  \\\n",
       "0    2022-11-11  09:15:00  42350.0  42350.00  42184.05  42224.9  343725   \n",
       "1    2022-11-11  09:18:00  42221.1  42248.30  42191.80  42248.3   96225   \n",
       "2    2022-11-11  09:21:00  42244.9  42247.35  42190.00  42195.1   70925   \n",
       "3    2022-11-11  09:24:00  42196.1  42218.95  42196.15  42203.2   60375   \n",
       "4    2022-11-11  09:27:00  42203.4  42209.15  42171.90  42176.6   72425   \n",
       "..          ...       ...      ...       ...       ...      ...     ...   \n",
       "120  2022-11-11  15:15:00  42284.0  42293.20  42250.05  42263.1   52600   \n",
       "121  2022-11-11  15:18:00  42263.1  42274.75  42257.10  42266.1   31500   \n",
       "122  2022-11-11  15:21:00  42270.8  42306.65  42263.00  42300.0   55350   \n",
       "123  2022-11-11  15:24:00  42300.0  42305.45  42292.00  42300.6   50325   \n",
       "124  2022-11-11  15:27:00  42300.4  42303.25  42290.00  42295.0   64350   \n",
       "\n",
       "            EMA12         EMA26      MACD    signal  \n",
       "0    42224.900000  42224.900000  0.000000  0.000000  \n",
       "1    42237.575000  42237.050000  0.525000  0.291667  \n",
       "2    42220.996998  42221.977772 -0.980775 -0.229826  \n",
       "3    42215.379181  42216.728328 -1.349147 -0.608999  \n",
       "4    42204.843016  42207.422403 -2.579387 -1.195145  \n",
       "..            ...           ...       ...       ...  \n",
       "120  42304.268803  42310.653612 -6.384810  0.383476  \n",
       "121  42298.396679  42307.353069 -8.956390 -1.484497  \n",
       "122  42298.643344  42306.808355 -8.165011 -2.820600  \n",
       "123  42298.944368  42306.348444 -7.404076 -3.737295  \n",
       "124  42298.337542  42305.507763 -7.170220 -4.423880  \n",
       "\n",
       "[125 rows x 11 columns]"
      ]
     },
     "execution_count": 6,
     "metadata": {},
     "output_type": "execute_result"
    }
   ],
   "source": [
    "df"
   ]
  },
  {
   "cell_type": "code",
   "execution_count": 7,
   "id": "25077147",
   "metadata": {},
   "outputs": [
    {
     "data": {
      "image/png": "[encoded data removed]",
      "text/plain": [
       "<Figure size 640x480 with 1 Axes>"
      ]
     },
     "metadata": {},
     "output_type": "display_data"
    }
   ],
   "source": [
    "plt.plot(df.signal, label=\"signal\", color=\"red\")\n",
    "plt.plot(df.MACD, label=\"MACD\", color=\"green\")\n",
    "plt.legend()\n",
    "plt.show()"
   ]
  },
  {
   "cell_type": "code",
   "execution_count": 8,
   "id": "319ec31c",
   "metadata": {},
   "outputs": [],
   "source": [
    "import plotly.express as px"
   ]
  },
  {
   "cell_type": "code",
   "execution_count": 24,
   "id": "cacab7da",
   "metadata": {},
   "outputs": [
    {
     "data": {
      "application/vnd.plotly.v1+json": {
       "config": {
        "plotlyServerURL": "https://plot.ly"
       },
       "data": [
        {
         "customdata": [
          [
           "2022-11-11"
          ],
          [
           "2022-11-11"
          ],
          [
           "2022-11-11"
          ],
          [
           "2022-11-11"
          ],
          [
           "2022-11-11"
          ],
          [
           "2022-11-11"
          ],
          [
           "2022-11-11"
          ],
          [
           "2022-11-11"
          ],
          [
           "2022-11-11"
          ],
          [
           "2022-11-11"
          ],
          [
           "2022-11-11"
          ],
          [
           "2022-11-11"
          ],
          [
           "2022-11-11"
          ],
          [
           "2022-11-11"
          ],
          [
           "2022-11-11"
          ],
          [
           "2022-11-11"
          ],
          [
           "2022-11-11"
          ],
          [
           "2022-11-11"
          ],
          [
           "2022-11-11"
          ],
          [
           "2022-11-11"
          ],
          [
           "2022-11-11"
          ],
          [
           "2022-11-11"
          ],
          [
           "2022-11-11"
          ],
          [
           "2022-11-11"
          ],
          [
           "2022-11-11"
          ],
          [
           "2022-11-11"
          ],
          [
           "2022-11-11"
          ],
          [
           "2022-11-11"
          ],
          [
           "2022-11-11"
          ],
          [
           "2022-11-11"
          ],
          [
           "2022-11-11"
          ],
          [
           "2022-11-11"
          ],
          [
           "2022-11-11"
          ],
          [
           "2022-11-11"
          ],
          [
           "2022-11-11"
          ],
          [
           "2022-11-11"
          ],
          [
           "2022-11-11"
          ],
          [
           "2022-11-11"
          ],
          [
           "2022-11-11"
          ],
          [
           "2022-11-11"
          ],
          [
           "2022-11-11"
          ],
          [
           "2022-11-11"
          ],
          [
           "2022-11-11"
          ],
          [
           "2022-11-11"
          ],
          [
           "2022-11-11"
          ],
          [
           "2022-11-11"
          ],
          [
           "2022-11-11"
          ],
          [
           "2022-11-11"
          ],
          [
           "2022-11-11"
          ],
          [
           "2022-11-11"
          ],
          [
           "2022-11-11"
          ],
          [
           "2022-11-11"
          ],
          [
           "2022-11-11"
          ],
          [
           "2022-11-11"
          ],
          [
           "2022-11-11"
          ],
          [
           "2022-11-11"
          ],
          [
           "2022-11-11"
          ],
          [
           "2022-11-11"
          ],
          [
           "2022-11-11"
          ],
          [
           "2022-11-11"
          ],
          [
           "2022-11-11"
          ],
          [
           "2022-11-11"
          ],
          [
           "2022-11-11"
          ],
          [
           "2022-11-11"
          ],
          [
           "2022-11-11"
          ],
          [
           "2022-11-11"
          ],
          [
           "2022-11-11"
          ],
          [
           "2022-11-11"
          ],
          [
           "2022-11-11"
          ],
          [
           "2022-11-11"
          ],
          [
           "2022-11-11"
          ],
          [
           "2022-11-11"
          ],
          [
           "2022-11-11"
          ],
          [
           "2022-11-11"
          ],
          [
           "2022-11-11"
          ],
          [
           "2022-11-11"
          ],
          [
           "2022-11-11"
          ],
          [
           "2022-11-11"
          ],
          [
           "2022-11-11"
          ],
          [
           "2022-11-11"
          ],
          [
           "2022-11-11"
          ],
          [
           "2022-11-11"
          ],
          [
           "2022-11-11"
          ],
          [
           "2022-11-11"
          ],
          [
           "2022-11-11"
          ],
          [
           "2022-11-11"
          ],
          [
           "2022-11-11"
          ],
          [
           "2022-11-11"
          ],
          [
           "2022-11-11"
          ],
          [
           "2022-11-11"
          ],
          [
           "2022-11-11"
          ],
          [
           "2022-11-11"
          ],
          [
           "2022-11-11"
          ],
          [
           "2022-11-11"
          ],
          [
           "2022-11-11"
          ],
          [
           "2022-11-11"
          ],
          [
           "2022-11-11"
          ],
          [
           "2022-11-11"
          ],
          [
           "2022-11-11"
          ],
          [
           "2022-11-11"
          ],
          [
           "2022-11-11"
          ],
          [
           "2022-11-11"
          ],
          [
           "2022-11-11"
          ],
          [
           "2022-11-11"
          ],
          [
           "2022-11-11"
          ],
          [
           "2022-11-11"
          ],
          [
           "2022-11-11"
          ],
          [
           "2022-11-11"
          ],
          [
           "2022-11-11"
          ],
          [
           "2022-11-11"
          ],
          [
           "2022-11-11"
          ],
          [
           "2022-11-11"
          ],
          [
           "2022-11-11"
          ],
          [
           "2022-11-11"
          ],
          [
           "2022-11-11"
          ],
          [
           "2022-11-11"
          ],
          [
           "2022-11-11"
          ],
          [
           "2022-11-11"
          ],
          [
           "2022-11-11"
          ],
          [
           "2022-11-11"
          ],
          [
           "2022-11-11"
          ],
          [
           "2022-11-11"
          ],
          [
           "2022-11-11"
          ],
          [
           "2022-11-11"
          ],
          [
           "2022-11-11"
          ]
         ],
         "hovertemplate": "variable=signal<br>time=%{x}<br>value=%{y}<br>date=%{customdata[0]|%B %d, %Y}<extra></extra>",
         "legendgroup": "signal",
         "line": {
          "color": "#636efa",
          "dash": "solid"
         },
         "marker": {
          "symbol": "circle"
         },
         "mode": "lines",
         "name": "signal",
         "orientation": "v",
         "showlegend": true,
         "type": "scatter",
         "x": [
          "09:15:00",
          "09:18:00",
          "09:21:00",
          "09:24:00",
          "09:27:00",
          "09:30:00",
          "09:33:00",
          "09:36:00",
          "09:39:00",
          "09:42:00",
          "09:45:00",
          "09:48:00",
          "09:51:00",
          "09:54:00",
          "09:57:00",
          "10:00:00",
          "10:03:00",
          "10:06:00",
          "10:09:00",
          "10:12:00",
          "10:15:00",
          "10:18:00",
          "10:21:00",
          "10:24:00",
          "10:27:00",
          "10:30:00",
          "10:33:00",
          "10:36:00",
          "10:39:00",
          "10:42:00",
          "10:45:00",
          "10:48:00",
          "10:51:00",
          "10:54:00",
          "10:57:00",
          "11:00:00",
          "11:03:00",
          "11:06:00",
          "11:09:00",
          "11:12:00",
          "11:15:00",
          "11:18:00",
          "11:21:00",
          "11:24:00",
          "11:27:00",
          "11:30:00",
          "11:33:00",
          "11:36:00",
          "11:39:00",
          "11:42:00",
          "11:45:00",
          "11:48:00",
          "11:51:00",
          "11:54:00",
          "11:57:00",
          "12:00:00",
          "12:03:00",
          "12:06:00",
          "12:09:00",
          "12:12:00",
          "12:15:00",
          "12:18:00",
          "12:21:00",
          "12:24:00",
          "12:27:00",
          "12:30:00",
          "12:33:00",
          "12:36:00",
          "12:39:00",
          "12:42:00",
          "12:45:00",
          "12:48:00",
          "12:51:00",
          "12:54:00",
          "12:57:00",
          "13:00:00",
          "13:03:00",
          "13:06:00",
          "13:09:00",
          "13:12:00",
          "13:15:00",
          "13:18:00",
          "13:21:00",
          "13:24:00",
          "13:27:00",
          "13:30:00",
          "13:33:00",
          "13:36:00",
          "13:39:00",
          "13:42:00",
          "13:45:00",
          "13:48:00",
          "13:51:00",
          "13:54:00",
          "13:57:00",
          "14:00:00",
          "14:03:00",
          "14:06:00",
          "14:09:00",
          "14:12:00",
          "14:15:00",
          "14:18:00",
          "14:21:00",
          "14:24:00",
          "14:27:00",
          "14:30:00",
          "14:33:00",
          "14:36:00",
          "14:39:00",
          "14:42:00",
          "14:45:00",
          "14:48:00",
          "14:51:00",
          "14:54:00",
          "14:57:00",
          "15:00:00",
          "15:03:00",
          "15:06:00",
          "15:09:00",
          "15:12:00",
          "15:15:00",
          "15:18:00",
          "15:21:00",
          "15:24:00",
          "15:27:00"
         ],
         "xaxis": "x",
         "y": [
          0,
          0.2916666666674751,
          -0.2298256602849416,
          -0.6089994584134776,
          -1.1951451709851824,
          -1.127143595862308,
          -1.409824100222969,
          -1.9391255745910143,
          -2.642981236616291,
          -3.6562732001158174,
          -4.583450727405329,
          -4.555545089240687,
          -4.362818734058795,
          -4.362239896854237,
          -4.758513441196583,
          -4.95234584292342,
          -5.11413064196418,
          -5.319270001919057,
          -5.329355671059235,
          -5.121202875258235,
          -4.646304041698911,
          -4.287241696060544,
          -4.371250257316944,
          -4.98790999537793,
          -5.924516051504965,
          -7.680029213645891,
          -9.379334504836235,
          -10.737445117115945,
          -12.103137910771741,
          -13.116790449565258,
          -13.450132915665476,
          -13.140296206392502,
          -12.03813472256894,
          -9.699306268373173,
          -6.622371590277711,
          -3.408370468758374,
          -0.022458154242136225,
          2.9664707211287102,
          5.531977741928307,
          7.757962120323575,
          9.746776054265213,
          11.47085552833685,
          13.137264175847559,
          14.614300589749263,
          16.056826606104973,
          17.11986219850387,
          18.181516531705775,
          19.015578301747837,
          19.415210187777184,
          19.6665015909398,
          19.823080388318424,
          20.619615458430662,
          21.78163267779801,
          23.219155152658917,
          24.902319706419167,
          26.29645550054906,
          27.362081601569198,
          28.188693090307815,
          28.331302307517777,
          28.128019397962657,
          28.88672020003807,
          30.425927249389286,
          32.20276881008781,
          34.57990117858094,
          37.01236529323489,
          39.08033226916836,
          40.90634150016122,
          42.50118293596416,
          43.71022254503594,
          44.30625763449123,
          44.323815937055784,
          43.98808489699459,
          42.67562575773264,
          40.24854225880143,
          37.032664772721944,
          32.68895805993482,
          28.170354404463442,
          24.529802089658798,
          21.676414639196864,
          18.836975093924938,
          16.317634930091256,
          14.06354183577314,
          11.969420011884662,
          9.642256323881798,
          6.958358113534972,
          4.005212203134014,
          1.6186353913219662,
          -0.8014028056955076,
          -3.204566644317711,
          -5.189697815911846,
          -6.991396913861532,
          -8.904110742370408,
          -10.638293672266135,
          -12.196435497350862,
          -12.498360681991615,
          -12.303452814085857,
          -12.154044410441601,
          -11.821924051701464,
          -11.561898171946467,
          -10.887802088787788,
          -9.621811380671312,
          -8.212679308279672,
          -6.485087289330271,
          -4.265242461381723,
          -2.974355715379865,
          -2.2117708196311994,
          -1.4212725734248999,
          -0.4473092597007406,
          1.0637591154677954,
          2.3943649511562786,
          3.1585986247504634,
          3.7837835805639366,
          4.3936766428417044,
          4.607432983148397,
          4.49854930520469,
          4.3663492145098,
          4.19417945821991,
          4.088949300594326,
          3.270492730408079,
          2.0755476095325895,
          0.3834761512141227,
          -1.4844970027094988,
          -2.8205997913653276,
          -3.737294999099649,
          -4.423880080001171
         ],
         "yaxis": "y"
        },
        {
         "customdata": [
          [
           "2022-11-11"
          ],
          [
           "2022-11-11"
          ],
          [
           "2022-11-11"
          ],
          [
           "2022-11-11"
          ],
          [
           "2022-11-11"
          ],
          [
           "2022-11-11"
          ],
          [
           "2022-11-11"
          ],
          [
           "2022-11-11"
          ],
          [
           "2022-11-11"
          ],
          [
           "2022-11-11"
          ],
          [
           "2022-11-11"
          ],
          [
           "2022-11-11"
          ],
          [
           "2022-11-11"
          ],
          [
           "2022-11-11"
          ],
          [
           "2022-11-11"
          ],
          [
           "2022-11-11"
          ],
          [
           "2022-11-11"
          ],
          [
           "2022-11-11"
          ],
          [
           "2022-11-11"
          ],
          [
           "2022-11-11"
          ],
          [
           "2022-11-11"
          ],
          [
           "2022-11-11"
          ],
          [
           "2022-11-11"
          ],
          [
           "2022-11-11"
          ],
          [
           "2022-11-11"
          ],
          [
           "2022-11-11"
          ],
          [
           "2022-11-11"
          ],
          [
           "2022-11-11"
          ],
          [
           "2022-11-11"
          ],
          [
           "2022-11-11"
          ],
          [
           "2022-11-11"
          ],
          [
           "2022-11-11"
          ],
          [
           "2022-11-11"
          ],
          [
           "2022-11-11"
          ],
          [
           "2022-11-11"
          ],
          [
           "2022-11-11"
          ],
          [
           "2022-11-11"
          ],
          [
           "2022-11-11"
          ],
          [
           "2022-11-11"
          ],
          [
           "2022-11-11"
          ],
          [
           "2022-11-11"
          ],
          [
           "2022-11-11"
          ],
          [
           "2022-11-11"
          ],
          [
           "2022-11-11"
          ],
          [
           "2022-11-11"
          ],
          [
           "2022-11-11"
          ],
          [
           "2022-11-11"
          ],
          [
           "2022-11-11"
          ],
          [
           "2022-11-11"
          ],
          [
           "2022-11-11"
          ],
          [
           "2022-11-11"
          ],
          [
           "2022-11-11"
          ],
          [
           "2022-11-11"
          ],
          [
           "2022-11-11"
          ],
          [
           "2022-11-11"
          ],
          [
           "2022-11-11"
          ],
          [
           "2022-11-11"
          ],
          [
           "2022-11-11"
          ],
          [
           "2022-11-11"
          ],
          [
           "2022-11-11"
          ],
          [
           "2022-11-11"
          ],
          [
           "2022-11-11"
          ],
          [
           "2022-11-11"
          ],
          [
           "2022-11-11"
          ],
          [
           "2022-11-11"
          ],
          [
           "2022-11-11"
          ],
          [
           "2022-11-11"
          ],
          [
           "2022-11-11"
          ],
          [
           "2022-11-11"
          ],
          [
           "2022-11-11"
          ],
          [
           "2022-11-11"
          ],
          [
           "2022-11-11"
          ],
          [
           "2022-11-11"
          ],
          [
           "2022-11-11"
          ],
          [
           "2022-11-11"
          ],
          [
           "2022-11-11"
          ],
          [
           "2022-11-11"
          ],
          [
           "2022-11-11"
          ],
          [
           "2022-11-11"
          ],
          [
           "2022-11-11"
          ],
          [
           "2022-11-11"
          ],
          [
           "2022-11-11"
          ],
          [
           "2022-11-11"
          ],
          [
           "2022-11-11"
          ],
          [
           "2022-11-11"
          ],
          [
           "2022-11-11"
          ],
          [
           "2022-11-11"
          ],
          [
           "2022-11-11"
          ],
          [
           "2022-11-11"
          ],
          [
           "2022-11-11"
          ],
          [
           "2022-11-11"
          ],
          [
           "2022-11-11"
          ],
          [
           "2022-11-11"
          ],
          [
           "2022-11-11"
          ],
          [
           "2022-11-11"
          ],
          [
           "2022-11-11"
          ],
          [
           "2022-11-11"
          ],
          [
           "2022-11-11"
          ],
          [
           "2022-11-11"
          ],
          [
           "2022-11-11"
          ],
          [
           "2022-11-11"
          ],
          [
           "2022-11-11"
          ],
          [
           "2022-11-11"
          ],
          [
           "2022-11-11"
          ],
          [
           "2022-11-11"
          ],
          [
           "2022-11-11"
          ],
          [
           "2022-11-11"
          ],
          [
           "2022-11-11"
          ],
          [
           "2022-11-11"
          ],
          [
           "2022-11-11"
          ],
          [
           "2022-11-11"
          ],
          [
           "2022-11-11"
          ],
          [
           "2022-11-11"
          ],
          [
           "2022-11-11"
          ],
          [
           "2022-11-11"
          ],
          [
           "2022-11-11"
          ],
          [
           "2022-11-11"
          ],
          [
           "2022-11-11"
          ],
          [
           "2022-11-11"
          ],
          [
           "2022-11-11"
          ],
          [
           "2022-11-11"
          ],
          [
           "2022-11-11"
          ],
          [
           "2022-11-11"
          ],
          [
           "2022-11-11"
          ],
          [
           "2022-11-11"
          ]
         ],
         "hovertemplate": "variable=MACD<br>time=%{x}<br>value=%{y}<br>date=%{customdata[0]|%B %d, %Y}<extra></extra>",
         "legendgroup": "MACD",
         "line": {
          "color": "#EF553B",
          "dash": "solid"
         },
         "marker": {
          "symbol": "circle"
         },
         "mode": "lines",
         "name": "MACD",
         "orientation": "v",
         "showlegend": true,
         "type": "scatter",
         "x": [
          "09:15:00",
          "09:18:00",
          "09:21:00",
          "09:24:00",
          "09:27:00",
          "09:30:00",
          "09:33:00",
          "09:36:00",
          "09:39:00",
          "09:42:00",
          "09:45:00",
          "09:48:00",
          "09:51:00",
          "09:54:00",
          "09:57:00",
          "10:00:00",
          "10:03:00",
          "10:06:00",
          "10:09:00",
          "10:12:00",
          "10:15:00",
          "10:18:00",
          "10:21:00",
          "10:24:00",
          "10:27:00",
          "10:30:00",
          "10:33:00",
          "10:36:00",
          "10:39:00",
          "10:42:00",
          "10:45:00",
          "10:48:00",
          "10:51:00",
          "10:54:00",
          "10:57:00",
          "11:00:00",
          "11:03:00",
          "11:06:00",
          "11:09:00",
          "11:12:00",
          "11:15:00",
          "11:18:00",
          "11:21:00",
          "11:24:00",
          "11:27:00",
          "11:30:00",
          "11:33:00",
          "11:36:00",
          "11:39:00",
          "11:42:00",
          "11:45:00",
          "11:48:00",
          "11:51:00",
          "11:54:00",
          "11:57:00",
          "12:00:00",
          "12:03:00",
          "12:06:00",
          "12:09:00",
          "12:12:00",
          "12:15:00",
          "12:18:00",
          "12:21:00",
          "12:24:00",
          "12:27:00",
          "12:30:00",
          "12:33:00",
          "12:36:00",
          "12:39:00",
          "12:42:00",
          "12:45:00",
          "12:48:00",
          "12:51:00",
          "12:54:00",
          "12:57:00",
          "13:00:00",
          "13:03:00",
          "13:06:00",
          "13:09:00",
          "13:12:00",
          "13:15:00",
          "13:18:00",
          "13:21:00",
          "13:24:00",
          "13:27:00",
          "13:30:00",
          "13:33:00",
          "13:36:00",
          "13:39:00",
          "13:42:00",
          "13:45:00",
          "13:48:00",
          "13:51:00",
          "13:54:00",
          "13:57:00",
          "14:00:00",
          "14:03:00",
          "14:06:00",
          "14:09:00",
          "14:12:00",
          "14:15:00",
          "14:18:00",
          "14:21:00",
          "14:24:00",
          "14:27:00",
          "14:30:00",
          "14:33:00",
          "14:36:00",
          "14:39:00",
          "14:42:00",
          "14:45:00",
          "14:48:00",
          "14:51:00",
          "14:54:00",
          "14:57:00",
          "15:00:00",
          "15:03:00",
          "15:06:00",
          "15:09:00",
          "15:12:00",
          "15:15:00",
          "15:18:00",
          "15:21:00",
          "15:24:00",
          "15:27:00"
         ],
         "xaxis": "x",
         "y": [
          0,
          0.5250000000014552,
          -0.9807746110964217,
          -1.3491467123603798,
          -2.57938688579452,
          -0.9442683199158637,
          -2.2441341251251288,
          -3.6123212138336385,
          -4.986054345732555,
          -7.165434073547658,
          -7.893941120833915,
          -4.453510840845411,
          -3.6448895304565667,
          -4.360051835683407,
          -6.273894439400465,
          -5.700395964449854,
          -5.743054489110364,
          -6.121350130837527,
          -5.368971598567441,
          -4.300590883780387,
          -2.7686095505705453,
          -2.8642393759000697,
          -4.704805007255345,
          -7.4399884812301025,
          -9.653248287824681,
          -14.675553297354782,
          -16.15601232917834,
          -16.15675272635417,
          -17.555342549203488,
          -17.165126399420842,
          -14.781852148124017,
          -11.902176758958376,
          -7.632981676440977,
          -0.34992208617768483,
          5.6791263571576565,
          9.442419002341921,
          13.516795938354335,
          14.919082341410103,
          15.79187448527955,
          16.660420213527686,
          17.700974355168,
          18.36644008231815,
          19.802331716411572,
          20.52204415779852,
          21.82661651718081,
          21.371819361178495,
          22.427985891496064,
          22.35173238092102,
          21.0137020835391,
          20.671649270836497,
          20.449386638763826,
          23.805719359588693,
          26.42965909801569,
          28.969203033273516,
          31.634938562296156,
          31.872972596662294,
          31.624570057727396,
          31.49512914855586,
          28.901737810432678,
          27.314889317392954,
          31.921518757517333,
          36.58274789854477,
          39.31012808199739,
          44.088423191802576,
          46.74221564432082,
          47.35219601903373,
          48.21037548984896,
          48.88054662892682,
          48.54637973789795,
          46.690397501923144,
          44.394049135757086,
          42.64516091353289,
          37.42578975355718,
          30.540209081002104,
          24.16915569540288,
          15.314132145635085,
          10.095940562234318,
          9.967593332963588,
          10.262865152442828,
          7.479217163680005,
          6.24027445280808,
          5.047169585945085,
          3.5929328110505594,
          0.33360165607882664,
          -3.777234650158789,
          -7.807371370079636,
          -7.927671811710752,
          -10.481555557897082,
          -12.817221970311948,
          -13.130222483458056,
          -14.198193291987991,
          -16.554966044794128,
          -17.57502538342669,
          -18.429002791635867,
          -13.706061419616162,
          -11.523821342947485,
          -11.5564107961618,
          -10.493442617269466,
          -10.52179465325753,
          -8.191417756839655,
          -4.557848549236951,
          -2.576151019631652,
          0.4252807855664287,
          4.6141368494863855,
          2.189191268196737,
          0.8385687631598557,
          1.7407204112314503,
          3.4485439950294676,
          7.108032615935372,
          7.716788293764694,
          6.2155333190603415,
          6.284523403774074,
          6.833248891918629,
          5.4624583443655865,
          4.063014593433763,
          3.8375488517340273,
          3.5055004330642987,
          3.6680286700939178,
          -0.0033335503248963505,
          -2.704232873955334,
          -6.384809682043851,
          -8.956389618389949,
          -8.165010945980612,
          -7.404075830032525,
          -7.170220403604617
         ],
         "yaxis": "y"
        }
       ],
       "layout": {
        "legend": {
         "title": {
          "text": "variable"
         },
         "tracegroupgap": 0
        },
        "template": {
         "data": {
          "bar": [
           {
            "error_x": {
             "color": "#2a3f5f"
            },
            "error_y": {
             "color": "#2a3f5f"
            },
            "marker": {
             "line": {
              "color": "#E5ECF6",
              "width": 0.5
             },
             "pattern": {
              "fillmode": "overlay",
              "size": 10,
              "solidity": 0.2
             }
            },
            "type": "bar"
           }
          ],
          "barpolar": [
           {
            "marker": {
             "line": {
              "color": "#E5ECF6",
              "width": 0.5
             },
             "pattern": {
              "fillmode": "overlay",
              "size": 10,
              "solidity": 0.2
             }
            },
            "type": "barpolar"
           }
          ],
          "carpet": [
           {
            "aaxis": {
             "endlinecolor": "#2a3f5f",
             "gridcolor": "white",
             "linecolor": "white",
             "minorgridcolor": "white",
             "startlinecolor": "#2a3f5f"
            },
            "baxis": {
             "endlinecolor": "#2a3f5f",
             "gridcolor": "white",
             "linecolor": "white",
             "minorgridcolor": "white",
             "startlinecolor": "#2a3f5f"
            },
            "type": "carpet"
           }
          ],
          "choropleth": [
           {
            "colorbar": {
             "outlinewidth": 0,
             "ticks": ""
            },
            "type": "choropleth"
           }
          ],
          "contour": [
           {
            "colorbar": {
             "outlinewidth": 0,
             "ticks": ""
            },
            "colorscale": [
             [
              0,
              "#0d0887"
             ],
             [
              0.1111111111111111,
              "#46039f"
             ],
             [
              0.2222222222222222,
              "#7201a8"
             ],
             [
              0.3333333333333333,
              "#9c179e"
             ],
             [
              0.4444444444444444,
              "#bd3786"
             ],
             [
              0.5555555555555556,
              "#d8576b"
             ],
             [
              0.6666666666666666,
              "#ed7953"
             ],
             [
              0.7777777777777778,
              "#fb9f3a"
             ],
             [
              0.8888888888888888,
              "#fdca26"
             ],
             [
              1,
              "#f0f921"
             ]
            ],
            "type": "contour"
           }
          ],
          "contourcarpet": [
           {
            "colorbar": {
             "outlinewidth": 0,
             "ticks": ""
            },
            "type": "contourcarpet"
           }
          ],
          "heatmap": [
           {
            "colorbar": {
             "outlinewidth": 0,
             "ticks": ""
            },
            "colorscale": [
             [
              0,
              "#0d0887"
             ],
             [
              0.1111111111111111,
              "#46039f"
             ],
             [
              0.2222222222222222,
              "#7201a8"
             ],
             [
              0.3333333333333333,
              "#9c179e"
             ],
             [
              0.4444444444444444,
              "#bd3786"
             ],
             [
              0.5555555555555556,
              "#d8576b"
             ],
             [
              0.6666666666666666,
              "#ed7953"
             ],
             [
              0.7777777777777778,
              "#fb9f3a"
             ],
             [
              0.8888888888888888,
              "#fdca26"
             ],
             [
              1,
              "#f0f921"
             ]
            ],
            "type": "heatmap"
           }
          ],
          "heatmapgl": [
           {
            "colorbar": {
             "outlinewidth": 0,
             "ticks": ""
            },
            "colorscale": [
             [
              0,
              "#0d0887"
             ],
             [
              0.1111111111111111,
              "#46039f"
             ],
             [
              0.2222222222222222,
              "#7201a8"
             ],
             [
              0.3333333333333333,
              "#9c179e"
             ],
             [
              0.4444444444444444,
              "#bd3786"
             ],
             [
              0.5555555555555556,
              "#d8576b"
             ],
             [
              0.6666666666666666,
              "#ed7953"
             ],
             [
              0.7777777777777778,
              "#fb9f3a"
             ],
             [
              0.8888888888888888,
              "#fdca26"
             ],
             [
              1,
              "#f0f921"
             ]
            ],
            "type": "heatmapgl"
           }
          ],
          "histogram": [
           {
            "marker": {
             "pattern": {
              "fillmode": "overlay",
              "size": 10,
              "solidity": 0.2
             }
            },
            "type": "histogram"
           }
          ],
          "histogram2d": [
           {
            "colorbar": {
             "outlinewidth": 0,
             "ticks": ""
            },
            "colorscale": [
             [
              0,
              "#0d0887"
             ],
             [
              0.1111111111111111,
              "#46039f"
             ],
             [
              0.2222222222222222,
              "#7201a8"
             ],
             [
              0.3333333333333333,
              "#9c179e"
             ],
             [
              0.4444444444444444,
              "#bd3786"
             ],
             [
              0.5555555555555556,
              "#d8576b"
             ],
             [
              0.6666666666666666,
              "#ed7953"
             ],
             [
              0.7777777777777778,
              "#fb9f3a"
             ],
             [
              0.8888888888888888,
              "#fdca26"
             ],
             [
              1,
              "#f0f921"
             ]
            ],
            "type": "histogram2d"
           }
          ],
          "histogram2dcontour": [
           {
            "colorbar": {
             "outlinewidth": 0,
             "ticks": ""
            },
            "colorscale": [
             [
              0,
              "#0d0887"
             ],
             [
              0.1111111111111111,
              "#46039f"
             ],
             [
              0.2222222222222222,
              "#7201a8"
             ],
             [
              0.3333333333333333,
              "#9c179e"
             ],
             [
              0.4444444444444444,
              "#bd3786"
             ],
             [
              0.5555555555555556,
              "#d8576b"
             ],
             [
              0.6666666666666666,
              "#ed7953"
             ],
             [
              0.7777777777777778,
              "#fb9f3a"
             ],
             [
              0.8888888888888888,
              "#fdca26"
             ],
             [
              1,
              "#f0f921"
             ]
            ],
            "type": "histogram2dcontour"
           }
          ],
          "mesh3d": [
           {
            "colorbar": {
             "outlinewidth": 0,
             "ticks": ""
            },
            "type": "mesh3d"
           }
          ],
          "parcoords": [
           {
            "line": {
             "colorbar": {
              "outlinewidth": 0,
              "ticks": ""
             }
            },
            "type": "parcoords"
           }
          ],
          "pie": [
           {
            "automargin": true,
            "type": "pie"
           }
          ],
          "scatter": [
           {
            "fillpattern": {
             "fillmode": "overlay",
             "size": 10,
             "solidity": 0.2
            },
            "type": "scatter"
           }
          ],
          "scatter3d": [
           {
            "line": {
             "colorbar": {
              "outlinewidth": 0,
              "ticks": ""
             }
            },
            "marker": {
             "colorbar": {
              "outlinewidth": 0,
              "ticks": ""
             }
            },
            "type": "scatter3d"
           }
          ],
          "scattercarpet": [
           {
            "marker": {
             "colorbar": {
              "outlinewidth": 0,
              "ticks": ""
             }
            },
            "type": "scattercarpet"
           }
          ],
          "scattergeo": [
           {
            "marker": {
             "colorbar": {
              "outlinewidth": 0,
              "ticks": ""
             }
            },
            "type": "scattergeo"
           }
          ],
          "scattergl": [
           {
            "marker": {
             "colorbar": {
              "outlinewidth": 0,
              "ticks": ""
             }
            },
            "type": "scattergl"
           }
          ],
          "scattermapbox": [
           {
            "marker": {
             "colorbar": {
              "outlinewidth": 0,
              "ticks": ""
             }
            },
            "type": "scattermapbox"
           }
          ],
          "scatterpolar": [
           {
            "marker": {
             "colorbar": {
              "outlinewidth": 0,
              "ticks": ""
             }
            },
            "type": "scatterpolar"
           }
          ],
          "scatterpolargl": [
           {
            "marker": {
             "colorbar": {
              "outlinewidth": 0,
              "ticks": ""
             }
            },
            "type": "scatterpolargl"
           }
          ],
          "scatterternary": [
           {
            "marker": {
             "colorbar": {
              "outlinewidth": 0,
              "ticks": ""
             }
            },
            "type": "scatterternary"
           }
          ],
          "surface": [
           {
            "colorbar": {
             "outlinewidth": 0,
             "ticks": ""
            },
            "colorscale": [
             [
              0,
              "#0d0887"
             ],
             [
              0.1111111111111111,
              "#46039f"
             ],
             [
              0.2222222222222222,
              "#7201a8"
             ],
             [
              0.3333333333333333,
              "#9c179e"
             ],
             [
              0.4444444444444444,
              "#bd3786"
             ],
             [
              0.5555555555555556,
              "#d8576b"
             ],
             [
              0.6666666666666666,
              "#ed7953"
             ],
             [
              0.7777777777777778,
              "#fb9f3a"
             ],
             [
              0.8888888888888888,
              "#fdca26"
             ],
             [
              1,
              "#f0f921"
             ]
            ],
            "type": "surface"
           }
          ],
          "table": [
           {
            "cells": {
             "fill": {
              "color": "#EBF0F8"
             },
             "line": {
              "color": "white"
             }
            },
            "header": {
             "fill": {
              "color": "#C8D4E3"
             },
             "line": {
              "color": "white"
             }
            },
            "type": "table"
           }
          ]
         },
         "layout": {
          "annotationdefaults": {
           "arrowcolor": "#2a3f5f",
           "arrowhead": 0,
           "arrowwidth": 1
          },
          "autotypenumbers": "strict",
          "coloraxis": {
           "colorbar": {
            "outlinewidth": 0,
            "ticks": ""
           }
          },
          "colorscale": {
           "diverging": [
            [
             0,
             "#8e0152"
            ],
            [
             0.1,
             "#c51b7d"
            ],
            [
             0.2,
             "#de77ae"
            ],
            [
             0.3,
             "#f1b6da"
            ],
            [
             0.4,
             "#fde0ef"
            ],
            [
             0.5,
             "#f7f7f7"
            ],
            [
             0.6,
             "#e6f5d0"
            ],
            [
             0.7,
             "#b8e186"
            ],
            [
             0.8,
             "#7fbc41"
            ],
            [
             0.9,
             "#4d9221"
            ],
            [
             1,
             "#276419"
            ]
           ],
           "sequential": [
            [
             0,
             "#0d0887"
            ],
            [
             0.1111111111111111,
             "#46039f"
            ],
            [
             0.2222222222222222,
             "#7201a8"
            ],
            [
             0.3333333333333333,
             "#9c179e"
            ],
            [
             0.4444444444444444,
             "#bd3786"
            ],
            [
             0.5555555555555556,
             "#d8576b"
            ],
            [
             0.6666666666666666,
             "#ed7953"
            ],
            [
             0.7777777777777778,
             "#fb9f3a"
            ],
            [
             0.8888888888888888,
             "#fdca26"
            ],
            [
             1,
             "#f0f921"
            ]
           ],
           "sequentialminus": [
            [
             0,
             "#0d0887"
            ],
            [
             0.1111111111111111,
             "#46039f"
            ],
            [
             0.2222222222222222,
             "#7201a8"
            ],
            [
             0.3333333333333333,
             "#9c179e"
            ],
            [
             0.4444444444444444,
             "#bd3786"
            ],
            [
             0.5555555555555556,
             "#d8576b"
            ],
            [
             0.6666666666666666,
             "#ed7953"
            ],
            [
             0.7777777777777778,
             "#fb9f3a"
            ],
            [
             0.8888888888888888,
             "#fdca26"
            ],
            [
             1,
             "#f0f921"
            ]
           ]
          },
          "colorway": [
           "#636efa",
           "#EF553B",
           "#00cc96",
           "#ab63fa",
           "#FFA15A",
           "#19d3f3",
           "#FF6692",
           "#B6E880",
           "#FF97FF",
           "#FECB52"
          ],
          "font": {
           "color": "#2a3f5f"
          },
          "geo": {
           "bgcolor": "white",
           "lakecolor": "white",
           "landcolor": "#E5ECF6",
           "showlakes": true,
           "showland": true,
           "subunitcolor": "white"
          },
          "hoverlabel": {
           "align": "left"
          },
          "hovermode": "closest",
          "mapbox": {
           "style": "light"
          },
          "paper_bgcolor": "white",
          "plot_bgcolor": "#E5ECF6",
          "polar": {
           "angularaxis": {
            "gridcolor": "white",
            "linecolor": "white",
            "ticks": ""
           },
           "bgcolor": "#E5ECF6",
           "radialaxis": {
            "gridcolor": "white",
            "linecolor": "white",
            "ticks": ""
           }
          },
          "scene": {
           "xaxis": {
            "backgroundcolor": "#E5ECF6",
            "gridcolor": "white",
            "gridwidth": 2,
            "linecolor": "white",
            "showbackground": true,
            "ticks": "",
            "zerolinecolor": "white"
           },
           "yaxis": {
            "backgroundcolor": "#E5ECF6",
            "gridcolor": "white",
            "gridwidth": 2,
            "linecolor": "white",
            "showbackground": true,
            "ticks": "",
            "zerolinecolor": "white"
           },
           "zaxis": {
            "backgroundcolor": "#E5ECF6",
            "gridcolor": "white",
            "gridwidth": 2,
            "linecolor": "white",
            "showbackground": true,
            "ticks": "",
            "zerolinecolor": "white"
           }
          },
          "shapedefaults": {
           "line": {
            "color": "#2a3f5f"
           }
          },
          "ternary": {
           "aaxis": {
            "gridcolor": "white",
            "linecolor": "white",
            "ticks": ""
           },
           "baxis": {
            "gridcolor": "white",
            "linecolor": "white",
            "ticks": ""
           },
           "bgcolor": "#E5ECF6",
           "caxis": {
            "gridcolor": "white",
            "linecolor": "white",
            "ticks": ""
           }
          },
          "title": {
           "x": 0.05
          },
          "xaxis": {
           "automargin": true,
           "gridcolor": "white",
           "linecolor": "white",
           "ticks": "",
           "title": {
            "standoff": 15
           },
           "zerolinecolor": "white",
           "zerolinewidth": 2
          },
          "yaxis": {
           "automargin": true,
           "gridcolor": "white",
           "linecolor": "white",
           "ticks": "",
           "title": {
            "standoff": 15
           },
           "zerolinecolor": "white",
           "zerolinewidth": 2
          }
         }
        },
        "title": {
         "text": "custom tick labels"
        },
        "xaxis": {
         "anchor": "y",
         "domain": [
          0,
          1
         ],
         "dtick": "M1",
         "tickformat": "%b\n%Y",
         "title": {
          "text": "time"
         }
        },
        "yaxis": {
         "anchor": "x",
         "domain": [
          0,
          1
         ],
         "title": {
          "text": "value"
         }
        }
       }
      },
      "text/html": [
       "<div>                            <div id=\"0035fce2-5087-402b-92a0-99734c559194\" class=\"plotly-graph-div\" style=\"height:525px; width:100%;\"></div>            <script type=\"text/javascript\">                require([\"plotly\"], function(Plotly) {                    window.PLOTLYENV=window.PLOTLYENV || {};                                    if (document.getElementById(\"0035fce2-5087-402b-92a0-99734c559194\")) {                    Plotly.newPlot(                        \"0035fce2-5087-402b-92a0-99734c559194\",                        [{\"customdata\":[[\"2022-11-11\"],[\"2022-11-11\"],[\"2022-11-11\"],[\"2022-11-11\"],[\"2022-11-11\"],[\"2022-11-11\"],[\"2022-11-11\"],[\"2022-11-11\"],[\"2022-11-11\"],[\"2022-11-11\"],[\"2022-11-11\"],[\"2022-11-11\"],[\"2022-11-11\"],[\"2022-11-11\"],[\"2022-11-11\"],[\"2022-11-11\"],[\"2022-11-11\"],[\"2022-11-11\"],[\"2022-11-11\"],[\"2022-11-11\"],[\"2022-11-11\"],[\"2022-11-11\"],[\"2022-11-11\"],[\"2022-11-11\"],[\"2022-11-11\"],[\"2022-11-11\"],[\"2022-11-11\"],[\"2022-11-11\"],[\"2022-11-11\"],[\"2022-11-11\"],[\"2022-11-11\"],[\"2022-11-11\"],[\"2022-11-11\"],[\"2022-11-11\"],[\"2022-11-11\"],[\"2022-11-11\"],[\"2022-11-11\"],[\"2022-11-11\"],[\"2022-11-11\"],[\"2022-11-11\"],[\"2022-11-11\"],[\"2022-11-11\"],[\"2022-11-11\"],[\"2022-11-11\"],[\"2022-11-11\"],[\"2022-11-11\"],[\"2022-11-11\"],[\"2022-11-11\"],[\"2022-11-11\"],[\"2022-11-11\"],[\"2022-11-11\"],[\"2022-11-11\"],[\"2022-11-11\"],[\"2022-11-11\"],[\"2022-11-11\"],[\"2022-11-11\"],[\"2022-11-11\"],[\"2022-11-11\"],[\"2022-11-11\"],[\"2022-11-11\"],[\"2022-11-11\"],[\"2022-11-11\"],[\"2022-11-11\"],[\"2022-11-11\"],[\"2022-11-11\"],[\"2022-11-11\"],[\"2022-11-11\"],[\"2022-11-11\"],[\"2022-11-11\"],[\"2022-11-11\"],[\"2022-11-11\"],[\"2022-11-11\"],[\"2022-11-11\"],[\"2022-11-11\"],[\"2022-11-11\"],[\"2022-11-11\"],[\"2022-11-11\"],[\"2022-11-11\"],[\"2022-11-11\"],[\"2022-11-11\"],[\"2022-11-11\"],[\"2022-11-11\"],[\"2022-11-11\"],[\"2022-11-11\"],[\"2022-11-11\"],[\"2022-11-11\"],[\"2022-11-11\"],[\"2022-11-11\"],[\"2022-11-11\"],[\"2022-11-11\"],[\"2022-11-11\"],[\"2022-11-11\"],[\"2022-11-11\"],[\"2022-11-11\"],[\"2022-11-11\"],[\"2022-11-11\"],[\"2022-11-11\"],[\"2022-11-11\"],[\"2022-11-11\"],[\"2022-11-11\"],[\"2022-11-11\"],[\"2022-11-11\"],[\"2022-11-11\"],[\"2022-11-11\"],[\"2022-11-11\"],[\"2022-11-11\"],[\"2022-11-11\"],[\"2022-11-11\"],[\"2022-11-11\"],[\"2022-11-11\"],[\"2022-11-11\"],[\"2022-11-11\"],[\"2022-11-11\"],[\"2022-11-11\"],[\"2022-11-11\"],[\"2022-11-11\"],[\"2022-11-11\"],[\"2022-11-11\"],[\"2022-11-11\"],[\"2022-11-11\"],[\"2022-11-11\"],[\"2022-11-11\"],[\"2022-11-11\"],[\"2022-11-11\"],[\"2022-11-11\"]],\"hovertemplate\":\"variable=signal<br>time=%{x}<br>value=%{y}<br>date=%{customdata[0]|%B %d, %Y}<extra></extra>\",\"legendgroup\":\"signal\",\"line\":{\"color\":\"#636efa\",\"dash\":\"solid\"},\"marker\":{\"symbol\":\"circle\"},\"mode\":\"lines\",\"name\":\"signal\",\"orientation\":\"v\",\"showlegend\":true,\"x\":[\"09:15:00\",\"09:18:00\",\"09:21:00\",\"09:24:00\",\"09:27:00\",\"09:30:00\",\"09:33:00\",\"09:36:00\",\"09:39:00\",\"09:42:00\",\"09:45:00\",\"09:48:00\",\"09:51:00\",\"09:54:00\",\"09:57:00\",\"10:00:00\",\"10:03:00\",\"10:06:00\",\"10:09:00\",\"10:12:00\",\"10:15:00\",\"10:18:00\",\"10:21:00\",\"10:24:00\",\"10:27:00\",\"10:30:00\",\"10:33:00\",\"10:36:00\",\"10:39:00\",\"10:42:00\",\"10:45:00\",\"10:48:00\",\"10:51:00\",\"10:54:00\",\"10:57:00\",\"11:00:00\",\"11:03:00\",\"11:06:00\",\"11:09:00\",\"11:12:00\",\"11:15:00\",\"11:18:00\",\"11:21:00\",\"11:24:00\",\"11:27:00\",\"11:30:00\",\"11:33:00\",\"11:36:00\",\"11:39:00\",\"11:42:00\",\"11:45:00\",\"11:48:00\",\"11:51:00\",\"11:54:00\",\"11:57:00\",\"12:00:00\",\"12:03:00\",\"12:06:00\",\"12:09:00\",\"12:12:00\",\"12:15:00\",\"12:18:00\",\"12:21:00\",\"12:24:00\",\"12:27:00\",\"12:30:00\",\"12:33:00\",\"12:36:00\",\"12:39:00\",\"12:42:00\",\"12:45:00\",\"12:48:00\",\"12:51:00\",\"12:54:00\",\"12:57:00\",\"13:00:00\",\"13:03:00\",\"13:06:00\",\"13:09:00\",\"13:12:00\",\"13:15:00\",\"13:18:00\",\"13:21:00\",\"13:24:00\",\"13:27:00\",\"13:30:00\",\"13:33:00\",\"13:36:00\",\"13:39:00\",\"13:42:00\",\"13:45:00\",\"13:48:00\",\"13:51:00\",\"13:54:00\",\"13:57:00\",\"14:00:00\",\"14:03:00\",\"14:06:00\",\"14:09:00\",\"14:12:00\",\"14:15:00\",\"14:18:00\",\"14:21:00\",\"14:24:00\",\"14:27:00\",\"14:30:00\",\"14:33:00\",\"14:36:00\",\"14:39:00\",\"14:42:00\",\"14:45:00\",\"14:48:00\",\"14:51:00\",\"14:54:00\",\"14:57:00\",\"15:00:00\",\"15:03:00\",\"15:06:00\",\"15:09:00\",\"15:12:00\",\"15:15:00\",\"15:18:00\",\"15:21:00\",\"15:24:00\",\"15:27:00\"],\"xaxis\":\"x\",\"y\":[0.0,0.2916666666674751,-0.2298256602849416,-0.6089994584134776,-1.1951451709851824,-1.127143595862308,-1.409824100222969,-1.9391255745910143,-2.642981236616291,-3.6562732001158174,-4.583450727405329,-4.555545089240687,-4.362818734058795,-4.362239896854237,-4.758513441196583,-4.95234584292342,-5.11413064196418,-5.319270001919057,-5.329355671059235,-5.121202875258235,-4.646304041698911,-4.287241696060544,-4.371250257316944,-4.98790999537793,-5.924516051504965,-7.680029213645891,-9.379334504836235,-10.737445117115945,-12.103137910771741,-13.116790449565258,-13.450132915665476,-13.140296206392502,-12.03813472256894,-9.699306268373173,-6.622371590277711,-3.408370468758374,-0.022458154242136225,2.9664707211287102,5.531977741928307,7.757962120323575,9.746776054265213,11.47085552833685,13.137264175847559,14.614300589749263,16.056826606104973,17.11986219850387,18.181516531705775,19.015578301747837,19.415210187777184,19.6665015909398,19.823080388318424,20.619615458430662,21.78163267779801,23.219155152658917,24.902319706419167,26.29645550054906,27.362081601569198,28.188693090307815,28.331302307517777,28.128019397962657,28.88672020003807,30.425927249389286,32.20276881008781,34.57990117858094,37.01236529323489,39.08033226916836,40.90634150016122,42.50118293596416,43.71022254503594,44.30625763449123,44.323815937055784,43.98808489699459,42.67562575773264,40.24854225880143,37.032664772721944,32.68895805993482,28.170354404463442,24.529802089658798,21.676414639196864,18.836975093924938,16.317634930091256,14.06354183577314,11.969420011884662,9.642256323881798,6.958358113534972,4.005212203134014,1.6186353913219662,-0.8014028056955076,-3.204566644317711,-5.189697815911846,-6.991396913861532,-8.904110742370408,-10.638293672266135,-12.196435497350862,-12.498360681991615,-12.303452814085857,-12.154044410441601,-11.821924051701464,-11.561898171946467,-10.887802088787788,-9.621811380671312,-8.212679308279672,-6.485087289330271,-4.265242461381723,-2.974355715379865,-2.2117708196311994,-1.4212725734248999,-0.4473092597007406,1.0637591154677954,2.3943649511562786,3.1585986247504634,3.7837835805639366,4.3936766428417044,4.607432983148397,4.49854930520469,4.3663492145098,4.19417945821991,4.088949300594326,3.270492730408079,2.0755476095325895,0.3834761512141227,-1.4844970027094988,-2.8205997913653276,-3.737294999099649,-4.423880080001171],\"yaxis\":\"y\",\"type\":\"scatter\"},{\"customdata\":[[\"2022-11-11\"],[\"2022-11-11\"],[\"2022-11-11\"],[\"2022-11-11\"],[\"2022-11-11\"],[\"2022-11-11\"],[\"2022-11-11\"],[\"2022-11-11\"],[\"2022-11-11\"],[\"2022-11-11\"],[\"2022-11-11\"],[\"2022-11-11\"],[\"2022-11-11\"],[\"2022-11-11\"],[\"2022-11-11\"],[\"2022-11-11\"],[\"2022-11-11\"],[\"2022-11-11\"],[\"2022-11-11\"],[\"2022-11-11\"],[\"2022-11-11\"],[\"2022-11-11\"],[\"2022-11-11\"],[\"2022-11-11\"],[\"2022-11-11\"],[\"2022-11-11\"],[\"2022-11-11\"],[\"2022-11-11\"],[\"2022-11-11\"],[\"2022-11-11\"],[\"2022-11-11\"],[\"2022-11-11\"],[\"2022-11-11\"],[\"2022-11-11\"],[\"2022-11-11\"],[\"2022-11-11\"],[\"2022-11-11\"],[\"2022-11-11\"],[\"2022-11-11\"],[\"2022-11-11\"],[\"2022-11-11\"],[\"2022-11-11\"],[\"2022-11-11\"],[\"2022-11-11\"],[\"2022-11-11\"],[\"2022-11-11\"],[\"2022-11-11\"],[\"2022-11-11\"],[\"2022-11-11\"],[\"2022-11-11\"],[\"2022-11-11\"],[\"2022-11-11\"],[\"2022-11-11\"],[\"2022-11-11\"],[\"2022-11-11\"],[\"2022-11-11\"],[\"2022-11-11\"],[\"2022-11-11\"],[\"2022-11-11\"],[\"2022-11-11\"],[\"2022-11-11\"],[\"2022-11-11\"],[\"2022-11-11\"],[\"2022-11-11\"],[\"2022-11-11\"],[\"2022-11-11\"],[\"2022-11-11\"],[\"2022-11-11\"],[\"2022-11-11\"],[\"2022-11-11\"],[\"2022-11-11\"],[\"2022-11-11\"],[\"2022-11-11\"],[\"2022-11-11\"],[\"2022-11-11\"],[\"2022-11-11\"],[\"2022-11-11\"],[\"2022-11-11\"],[\"2022-11-11\"],[\"2022-11-11\"],[\"2022-11-11\"],[\"2022-11-11\"],[\"2022-11-11\"],[\"2022-11-11\"],[\"2022-11-11\"],[\"2022-11-11\"],[\"2022-11-11\"],[\"2022-11-11\"],[\"2022-11-11\"],[\"2022-11-11\"],[\"2022-11-11\"],[\"2022-11-11\"],[\"2022-11-11\"],[\"2022-11-11\"],[\"2022-11-11\"],[\"2022-11-11\"],[\"2022-11-11\"],[\"2022-11-11\"],[\"2022-11-11\"],[\"2022-11-11\"],[\"2022-11-11\"],[\"2022-11-11\"],[\"2022-11-11\"],[\"2022-11-11\"],[\"2022-11-11\"],[\"2022-11-11\"],[\"2022-11-11\"],[\"2022-11-11\"],[\"2022-11-11\"],[\"2022-11-11\"],[\"2022-11-11\"],[\"2022-11-11\"],[\"2022-11-11\"],[\"2022-11-11\"],[\"2022-11-11\"],[\"2022-11-11\"],[\"2022-11-11\"],[\"2022-11-11\"],[\"2022-11-11\"],[\"2022-11-11\"],[\"2022-11-11\"],[\"2022-11-11\"],[\"2022-11-11\"],[\"2022-11-11\"],[\"2022-11-11\"]],\"hovertemplate\":\"variable=MACD<br>time=%{x}<br>value=%{y}<br>date=%{customdata[0]|%B %d, %Y}<extra></extra>\",\"legendgroup\":\"MACD\",\"line\":{\"color\":\"#EF553B\",\"dash\":\"solid\"},\"marker\":{\"symbol\":\"circle\"},\"mode\":\"lines\",\"name\":\"MACD\",\"orientation\":\"v\",\"showlegend\":true,\"x\":[\"09:15:00\",\"09:18:00\",\"09:21:00\",\"09:24:00\",\"09:27:00\",\"09:30:00\",\"09:33:00\",\"09:36:00\",\"09:39:00\",\"09:42:00\",\"09:45:00\",\"09:48:00\",\"09:51:00\",\"09:54:00\",\"09:57:00\",\"10:00:00\",\"10:03:00\",\"10:06:00\",\"10:09:00\",\"10:12:00\",\"10:15:00\",\"10:18:00\",\"10:21:00\",\"10:24:00\",\"10:27:00\",\"10:30:00\",\"10:33:00\",\"10:36:00\",\"10:39:00\",\"10:42:00\",\"10:45:00\",\"10:48:00\",\"10:51:00\",\"10:54:00\",\"10:57:00\",\"11:00:00\",\"11:03:00\",\"11:06:00\",\"11:09:00\",\"11:12:00\",\"11:15:00\",\"11:18:00\",\"11:21:00\",\"11:24:00\",\"11:27:00\",\"11:30:00\",\"11:33:00\",\"11:36:00\",\"11:39:00\",\"11:42:00\",\"11:45:00\",\"11:48:00\",\"11:51:00\",\"11:54:00\",\"11:57:00\",\"12:00:00\",\"12:03:00\",\"12:06:00\",\"12:09:00\",\"12:12:00\",\"12:15:00\",\"12:18:00\",\"12:21:00\",\"12:24:00\",\"12:27:00\",\"12:30:00\",\"12:33:00\",\"12:36:00\",\"12:39:00\",\"12:42:00\",\"12:45:00\",\"12:48:00\",\"12:51:00\",\"12:54:00\",\"12:57:00\",\"13:00:00\",\"13:03:00\",\"13:06:00\",\"13:09:00\",\"13:12:00\",\"13:15:00\",\"13:18:00\",\"13:21:00\",\"13:24:00\",\"13:27:00\",\"13:30:00\",\"13:33:00\",\"13:36:00\",\"13:39:00\",\"13:42:00\",\"13:45:00\",\"13:48:00\",\"13:51:00\",\"13:54:00\",\"13:57:00\",\"14:00:00\",\"14:03:00\",\"14:06:00\",\"14:09:00\",\"14:12:00\",\"14:15:00\",\"14:18:00\",\"14:21:00\",\"14:24:00\",\"14:27:00\",\"14:30:00\",\"14:33:00\",\"14:36:00\",\"14:39:00\",\"14:42:00\",\"14:45:00\",\"14:48:00\",\"14:51:00\",\"14:54:00\",\"14:57:00\",\"15:00:00\",\"15:03:00\",\"15:06:00\",\"15:09:00\",\"15:12:00\",\"15:15:00\",\"15:18:00\",\"15:21:00\",\"15:24:00\",\"15:27:00\"],\"xaxis\":\"x\",\"y\":[0.0,0.5250000000014552,-0.9807746110964217,-1.3491467123603798,-2.57938688579452,-0.9442683199158637,-2.2441341251251288,-3.6123212138336385,-4.986054345732555,-7.165434073547658,-7.893941120833915,-4.453510840845411,-3.6448895304565667,-4.360051835683407,-6.273894439400465,-5.700395964449854,-5.743054489110364,-6.121350130837527,-5.368971598567441,-4.300590883780387,-2.7686095505705453,-2.8642393759000697,-4.704805007255345,-7.4399884812301025,-9.653248287824681,-14.675553297354782,-16.15601232917834,-16.15675272635417,-17.555342549203488,-17.165126399420842,-14.781852148124017,-11.902176758958376,-7.632981676440977,-0.34992208617768483,5.6791263571576565,9.442419002341921,13.516795938354335,14.919082341410103,15.79187448527955,16.660420213527686,17.700974355168,18.36644008231815,19.802331716411572,20.52204415779852,21.82661651718081,21.371819361178495,22.427985891496064,22.35173238092102,21.0137020835391,20.671649270836497,20.449386638763826,23.805719359588693,26.42965909801569,28.969203033273516,31.634938562296156,31.872972596662294,31.624570057727396,31.49512914855586,28.901737810432678,27.314889317392954,31.921518757517333,36.58274789854477,39.31012808199739,44.088423191802576,46.74221564432082,47.35219601903373,48.21037548984896,48.88054662892682,48.54637973789795,46.690397501923144,44.394049135757086,42.64516091353289,37.42578975355718,30.540209081002104,24.16915569540288,15.314132145635085,10.095940562234318,9.967593332963588,10.262865152442828,7.479217163680005,6.24027445280808,5.047169585945085,3.5929328110505594,0.33360165607882664,-3.777234650158789,-7.807371370079636,-7.927671811710752,-10.481555557897082,-12.817221970311948,-13.130222483458056,-14.198193291987991,-16.554966044794128,-17.57502538342669,-18.429002791635867,-13.706061419616162,-11.523821342947485,-11.5564107961618,-10.493442617269466,-10.52179465325753,-8.191417756839655,-4.557848549236951,-2.576151019631652,0.4252807855664287,4.6141368494863855,2.189191268196737,0.8385687631598557,1.7407204112314503,3.4485439950294676,7.108032615935372,7.716788293764694,6.2155333190603415,6.284523403774074,6.833248891918629,5.4624583443655865,4.063014593433763,3.8375488517340273,3.5055004330642987,3.6680286700939178,-0.0033335503248963505,-2.704232873955334,-6.384809682043851,-8.956389618389949,-8.165010945980612,-7.404075830032525,-7.170220403604617],\"yaxis\":\"y\",\"type\":\"scatter\"}],                        {\"template\":{\"data\":{\"histogram2dcontour\":[{\"type\":\"histogram2dcontour\",\"colorbar\":{\"outlinewidth\":0,\"ticks\":\"\"},\"colorscale\":[[0.0,\"#0d0887\"],[0.1111111111111111,\"#46039f\"],[0.2222222222222222,\"#7201a8\"],[0.3333333333333333,\"#9c179e\"],[0.4444444444444444,\"#bd3786\"],[0.5555555555555556,\"#d8576b\"],[0.6666666666666666,\"#ed7953\"],[0.7777777777777778,\"#fb9f3a\"],[0.8888888888888888,\"#fdca26\"],[1.0,\"#f0f921\"]]}],\"choropleth\":[{\"type\":\"choropleth\",\"colorbar\":{\"outlinewidth\":0,\"ticks\":\"\"}}],\"histogram2d\":[{\"type\":\"histogram2d\",\"colorbar\":{\"outlinewidth\":0,\"ticks\":\"\"},\"colorscale\":[[0.0,\"#0d0887\"],[0.1111111111111111,\"#46039f\"],[0.2222222222222222,\"#7201a8\"],[0.3333333333333333,\"#9c179e\"],[0.4444444444444444,\"#bd3786\"],[0.5555555555555556,\"#d8576b\"],[0.6666666666666666,\"#ed7953\"],[0.7777777777777778,\"#fb9f3a\"],[0.8888888888888888,\"#fdca26\"],[1.0,\"#f0f921\"]]}],\"heatmap\":[{\"type\":\"heatmap\",\"colorbar\":{\"outlinewidth\":0,\"ticks\":\"\"},\"colorscale\":[[0.0,\"#0d0887\"],[0.1111111111111111,\"#46039f\"],[0.2222222222222222,\"#7201a8\"],[0.3333333333333333,\"#9c179e\"],[0.4444444444444444,\"#bd3786\"],[0.5555555555555556,\"#d8576b\"],[0.6666666666666666,\"#ed7953\"],[0.7777777777777778,\"#fb9f3a\"],[0.8888888888888888,\"#fdca26\"],[1.0,\"#f0f921\"]]}],\"heatmapgl\":[{\"type\":\"heatmapgl\",\"colorbar\":{\"outlinewidth\":0,\"ticks\":\"\"},\"colorscale\":[[0.0,\"#0d0887\"],[0.1111111111111111,\"#46039f\"],[0.2222222222222222,\"#7201a8\"],[0.3333333333333333,\"#9c179e\"],[0.4444444444444444,\"#bd3786\"],[0.5555555555555556,\"#d8576b\"],[0.6666666666666666,\"#ed7953\"],[0.7777777777777778,\"#fb9f3a\"],[0.8888888888888888,\"#fdca26\"],[1.0,\"#f0f921\"]]}],\"contourcarpet\":[{\"type\":\"contourcarpet\",\"colorbar\":{\"outlinewidth\":0,\"ticks\":\"\"}}],\"contour\":[{\"type\":\"contour\",\"colorbar\":{\"outlinewidth\":0,\"ticks\":\"\"},\"colorscale\":[[0.0,\"#0d0887\"],[0.1111111111111111,\"#46039f\"],[0.2222222222222222,\"#7201a8\"],[0.3333333333333333,\"#9c179e\"],[0.4444444444444444,\"#bd3786\"],[0.5555555555555556,\"#d8576b\"],[0.6666666666666666,\"#ed7953\"],[0.7777777777777778,\"#fb9f3a\"],[0.8888888888888888,\"#fdca26\"],[1.0,\"#f0f921\"]]}],\"surface\":[{\"type\":\"surface\",\"colorbar\":{\"outlinewidth\":0,\"ticks\":\"\"},\"colorscale\":[[0.0,\"#0d0887\"],[0.1111111111111111,\"#46039f\"],[0.2222222222222222,\"#7201a8\"],[0.3333333333333333,\"#9c179e\"],[0.4444444444444444,\"#bd3786\"],[0.5555555555555556,\"#d8576b\"],[0.6666666666666666,\"#ed7953\"],[0.7777777777777778,\"#fb9f3a\"],[0.8888888888888888,\"#fdca26\"],[1.0,\"#f0f921\"]]}],\"mesh3d\":[{\"type\":\"mesh3d\",\"colorbar\":{\"outlinewidth\":0,\"ticks\":\"\"}}],\"scatter\":[{\"fillpattern\":{\"fillmode\":\"overlay\",\"size\":10,\"solidity\":0.2},\"type\":\"scatter\"}],\"parcoords\":[{\"type\":\"parcoords\",\"line\":{\"colorbar\":{\"outlinewidth\":0,\"ticks\":\"\"}}}],\"scatterpolargl\":[{\"type\":\"scatterpolargl\",\"marker\":{\"colorbar\":{\"outlinewidth\":0,\"ticks\":\"\"}}}],\"bar\":[{\"error_x\":{\"color\":\"#2a3f5f\"},\"error_y\":{\"color\":\"#2a3f5f\"},\"marker\":{\"line\":{\"color\":\"#E5ECF6\",\"width\":0.5},\"pattern\":{\"fillmode\":\"overlay\",\"size\":10,\"solidity\":0.2}},\"type\":\"bar\"}],\"scattergeo\":[{\"type\":\"scattergeo\",\"marker\":{\"colorbar\":{\"outlinewidth\":0,\"ticks\":\"\"}}}],\"scatterpolar\":[{\"type\":\"scatterpolar\",\"marker\":{\"colorbar\":{\"outlinewidth\":0,\"ticks\":\"\"}}}],\"histogram\":[{\"marker\":{\"pattern\":{\"fillmode\":\"overlay\",\"size\":10,\"solidity\":0.2}},\"type\":\"histogram\"}],\"scattergl\":[{\"type\":\"scattergl\",\"marker\":{\"colorbar\":{\"outlinewidth\":0,\"ticks\":\"\"}}}],\"scatter3d\":[{\"type\":\"scatter3d\",\"line\":{\"colorbar\":{\"outlinewidth\":0,\"ticks\":\"\"}},\"marker\":{\"colorbar\":{\"outlinewidth\":0,\"ticks\":\"\"}}}],\"scattermapbox\":[{\"type\":\"scattermapbox\",\"marker\":{\"colorbar\":{\"outlinewidth\":0,\"ticks\":\"\"}}}],\"scatterternary\":[{\"type\":\"scatterternary\",\"marker\":{\"colorbar\":{\"outlinewidth\":0,\"ticks\":\"\"}}}],\"scattercarpet\":[{\"type\":\"scattercarpet\",\"marker\":{\"colorbar\":{\"outlinewidth\":0,\"ticks\":\"\"}}}],\"carpet\":[{\"aaxis\":{\"endlinecolor\":\"#2a3f5f\",\"gridcolor\":\"white\",\"linecolor\":\"white\",\"minorgridcolor\":\"white\",\"startlinecolor\":\"#2a3f5f\"},\"baxis\":{\"endlinecolor\":\"#2a3f5f\",\"gridcolor\":\"white\",\"linecolor\":\"white\",\"minorgridcolor\":\"white\",\"startlinecolor\":\"#2a3f5f\"},\"type\":\"carpet\"}],\"table\":[{\"cells\":{\"fill\":{\"color\":\"#EBF0F8\"},\"line\":{\"color\":\"white\"}},\"header\":{\"fill\":{\"color\":\"#C8D4E3\"},\"line\":{\"color\":\"white\"}},\"type\":\"table\"}],\"barpolar\":[{\"marker\":{\"line\":{\"color\":\"#E5ECF6\",\"width\":0.5},\"pattern\":{\"fillmode\":\"overlay\",\"size\":10,\"solidity\":0.2}},\"type\":\"barpolar\"}],\"pie\":[{\"automargin\":true,\"type\":\"pie\"}]},\"layout\":{\"autotypenumbers\":\"strict\",\"colorway\":[\"#636efa\",\"#EF553B\",\"#00cc96\",\"#ab63fa\",\"#FFA15A\",\"#19d3f3\",\"#FF6692\",\"#B6E880\",\"#FF97FF\",\"#FECB52\"],\"font\":{\"color\":\"#2a3f5f\"},\"hovermode\":\"closest\",\"hoverlabel\":{\"align\":\"left\"},\"paper_bgcolor\":\"white\",\"plot_bgcolor\":\"#E5ECF6\",\"polar\":{\"bgcolor\":\"#E5ECF6\",\"angularaxis\":{\"gridcolor\":\"white\",\"linecolor\":\"white\",\"ticks\":\"\"},\"radialaxis\":{\"gridcolor\":\"white\",\"linecolor\":\"white\",\"ticks\":\"\"}},\"ternary\":{\"bgcolor\":\"#E5ECF6\",\"aaxis\":{\"gridcolor\":\"white\",\"linecolor\":\"white\",\"ticks\":\"\"},\"baxis\":{\"gridcolor\":\"white\",\"linecolor\":\"white\",\"ticks\":\"\"},\"caxis\":{\"gridcolor\":\"white\",\"linecolor\":\"white\",\"ticks\":\"\"}},\"coloraxis\":{\"colorbar\":{\"outlinewidth\":0,\"ticks\":\"\"}},\"colorscale\":{\"sequential\":[[0.0,\"#0d0887\"],[0.1111111111111111,\"#46039f\"],[0.2222222222222222,\"#7201a8\"],[0.3333333333333333,\"#9c179e\"],[0.4444444444444444,\"#bd3786\"],[0.5555555555555556,\"#d8576b\"],[0.6666666666666666,\"#ed7953\"],[0.7777777777777778,\"#fb9f3a\"],[0.8888888888888888,\"#fdca26\"],[1.0,\"#f0f921\"]],\"sequentialminus\":[[0.0,\"#0d0887\"],[0.1111111111111111,\"#46039f\"],[0.2222222222222222,\"#7201a8\"],[0.3333333333333333,\"#9c179e\"],[0.4444444444444444,\"#bd3786\"],[0.5555555555555556,\"#d8576b\"],[0.6666666666666666,\"#ed7953\"],[0.7777777777777778,\"#fb9f3a\"],[0.8888888888888888,\"#fdca26\"],[1.0,\"#f0f921\"]],\"diverging\":[[0,\"#8e0152\"],[0.1,\"#c51b7d\"],[0.2,\"#de77ae\"],[0.3,\"#f1b6da\"],[0.4,\"#fde0ef\"],[0.5,\"#f7f7f7\"],[0.6,\"#e6f5d0\"],[0.7,\"#b8e186\"],[0.8,\"#7fbc41\"],[0.9,\"#4d9221\"],[1,\"#276419\"]]},\"xaxis\":{\"gridcolor\":\"white\",\"linecolor\":\"white\",\"ticks\":\"\",\"title\":{\"standoff\":15},\"zerolinecolor\":\"white\",\"automargin\":true,\"zerolinewidth\":2},\"yaxis\":{\"gridcolor\":\"white\",\"linecolor\":\"white\",\"ticks\":\"\",\"title\":{\"standoff\":15},\"zerolinecolor\":\"white\",\"automargin\":true,\"zerolinewidth\":2},\"scene\":{\"xaxis\":{\"backgroundcolor\":\"#E5ECF6\",\"gridcolor\":\"white\",\"linecolor\":\"white\",\"showbackground\":true,\"ticks\":\"\",\"zerolinecolor\":\"white\",\"gridwidth\":2},\"yaxis\":{\"backgroundcolor\":\"#E5ECF6\",\"gridcolor\":\"white\",\"linecolor\":\"white\",\"showbackground\":true,\"ticks\":\"\",\"zerolinecolor\":\"white\",\"gridwidth\":2},\"zaxis\":{\"backgroundcolor\":\"#E5ECF6\",\"gridcolor\":\"white\",\"linecolor\":\"white\",\"showbackground\":true,\"ticks\":\"\",\"zerolinecolor\":\"white\",\"gridwidth\":2}},\"shapedefaults\":{\"line\":{\"color\":\"#2a3f5f\"}},\"annotationdefaults\":{\"arrowcolor\":\"#2a3f5f\",\"arrowhead\":0,\"arrowwidth\":1},\"geo\":{\"bgcolor\":\"white\",\"landcolor\":\"#E5ECF6\",\"subunitcolor\":\"white\",\"showland\":true,\"showlakes\":true,\"lakecolor\":\"white\"},\"title\":{\"x\":0.05},\"mapbox\":{\"style\":\"light\"}}},\"xaxis\":{\"anchor\":\"y\",\"domain\":[0.0,1.0],\"title\":{\"text\":\"time\"},\"dtick\":\"M1\",\"tickformat\":\"%b\\n%Y\"},\"yaxis\":{\"anchor\":\"x\",\"domain\":[0.0,1.0],\"title\":{\"text\":\"value\"}},\"legend\":{\"title\":{\"text\":\"variable\"},\"tracegroupgap\":0},\"title\":{\"text\":\"custom tick labels\"}},                        {\"responsive\": true}                    ).then(function(){\n",
       "                            \n",
       "var gd = document.getElementById('0035fce2-5087-402b-92a0-99734c559194');\n",
       "var x = new MutationObserver(function (mutations, observer) {{\n",
       "        var display = window.getComputedStyle(gd).display;\n",
       "        if (!display || display === 'none') {{\n",
       "            console.log([gd, 'removed!']);\n",
       "            Plotly.purge(gd);\n",
       "            observer.disconnect();\n",
       "        }}\n",
       "}});\n",
       "\n",
       "// Listen for the removal of the full notebook cells\n",
       "var notebookContainer = gd.closest('#notebook-container');\n",
       "if (notebookContainer) {{\n",
       "    x.observe(notebookContainer, {childList: true});\n",
       "}}\n",
       "\n",
       "// Listen for the clearing of the current output cell\n",
       "var outputEl = gd.closest('.output');\n",
       "if (outputEl) {{\n",
       "    x.observe(outputEl, {childList: true});\n",
       "}}\n",
       "\n",
       "                        })                };                });            </script>        </div>"
      ]
     },
     "metadata": {},
     "output_type": "display_data"
    }
   ],
   "source": [
    "fig = px.line(df, x=\"time\", y=[\"signal\",\"MACD\"],\n",
    "              hover_data={\"date\": \"|%B %d, %Y\"},\n",
    "              title='custom tick labels')\n",
    "fig.update_xaxes(\n",
    "    dtick=\"M1\",\n",
    "    tickformat=\"%b\\n%Y\")\n",
    "fig.show()"
   ]
  },
  {
   "cell_type": "code",
   "execution_count": 10,
   "id": "1ddd34c1",
   "metadata": {},
   "outputs": [],
   "source": [
    "Buy, Sell = [],[]\n",
    "\n",
    "for i in range(2,len(df)):\n",
    "    if df.MACD.iloc[i] > df.signal.iloc[i] and df.MACD.iloc[i-1] < df.signal.iloc[i-1]:\n",
    "        Buy.append(i)\n",
    "    elif df.MACD.iloc[i] < df.signal.iloc[i] and df.MACD.iloc[i-1] > df.signal.iloc[i-1]:\n",
    "        Sell.append(i)"
   ]
  },
  {
   "cell_type": "code",
   "execution_count": 11,
   "id": "924a8a1e",
   "metadata": {},
   "outputs": [
    {
     "data": {
      "text/plain": [
       "[5, 11, 19, 31, 60, 95]"
      ]
     },
     "execution_count": 11,
     "metadata": {},
     "output_type": "execute_result"
    }
   ],
   "source": [
    "Buy"
   ]
  },
  {
   "cell_type": "code",
   "execution_count": 12,
   "id": "1dfacd72",
   "metadata": {},
   "outputs": [
    {
     "data": {
      "text/plain": [
       "[2, 6, 14, 22, 59, 71, 114]"
      ]
     },
     "execution_count": 12,
     "metadata": {},
     "output_type": "execute_result"
    }
   ],
   "source": [
    "Sell"
   ]
  },
  {
   "cell_type": "code",
   "execution_count": 43,
   "id": "fedb6c92",
   "metadata": {},
   "outputs": [
    {
     "data": {
      "image/png": "[encoded data removed]",
      "text/plain": [
       "<Figure size 1200x400 with 1 Axes>"
      ]
     },
     "metadata": {},
     "output_type": "display_data"
    }
   ],
   "source": [
    "plt.figure(figsize=(12,4))\n",
    "plt.scatter(df.iloc[Buy].index, df.iloc[Buy].close, marker=\"^\", color=\"green\")\n",
    "plt.scatter(df.iloc[Sell].index, df.iloc[Sell].close, marker=\"v\", color=\"red\")\n",
    "plt.plot(df.close,label=\"Close\",color=\"k\")\n",
    "plt.legend()\n",
    "plt.show()"
   ]
  },
  {
   "cell_type": "code",
   "execution_count": 44,
   "id": "45de5496",
   "metadata": {},
   "outputs": [],
   "source": [
    "RealBuy = [i+1 for i in Buy]\n",
    "RealSell = [i+1 for i in Sell]"
   ]
  },
  {
   "cell_type": "code",
   "execution_count": 45,
   "id": "4e790c3c",
   "metadata": {},
   "outputs": [],
   "source": [
    "BuyPrices = df.open.iloc[RealBuy]\n",
    "SellPrices = df.open.iloc[RealSell]"
   ]
  },
  {
   "cell_type": "code",
   "execution_count": 46,
   "id": "8ea0dd06",
   "metadata": {},
   "outputs": [
    {
     "data": {
      "text/plain": [
       "6     42228.8\n",
       "12    42217.4\n",
       "20    42174.0\n",
       "32    42140.1\n",
       "61    42367.1\n",
       "96    42305.9\n",
       "Name: open, dtype: float64"
      ]
     },
     "execution_count": 46,
     "metadata": {},
     "output_type": "execute_result"
    }
   ],
   "source": [
    "BuyPrices"
   ]
  },
  {
   "cell_type": "code",
   "execution_count": 47,
   "id": "ed538c17",
   "metadata": {},
   "outputs": [
    {
     "data": {
      "text/plain": [
       "3      42196.1\n",
       "7      42171.2\n",
       "15     42141.4\n",
       "23     42130.1\n",
       "60     42297.2\n",
       "72     42402.0\n",
       "115    42305.4\n",
       "Name: open, dtype: float64"
      ]
     },
     "execution_count": 47,
     "metadata": {},
     "output_type": "execute_result"
    }
   ],
   "source": [
    "SellPrices"
   ]
  },
  {
   "cell_type": "code",
   "execution_count": 48,
   "id": "d96e9cda",
   "metadata": {},
   "outputs": [],
   "source": [
    "if SellPrices.index[0] < BuyPrices.index[0]:\n",
    "    SellPrices = SellPrices.drop(SellPrices.index[0])\n",
    "elif BuyPrices.index[-1] > SellPrices.index[-1]:\n",
    "    BuyPrices = BuyPrices.drop(BuyPrices.index[-1])"
   ]
  },
  {
   "cell_type": "code",
   "execution_count": 56,
   "id": "2f76a246",
   "metadata": {},
   "outputs": [
    {
     "data": {
      "text/plain": [
       "6"
      ]
     },
     "execution_count": 56,
     "metadata": {},
     "output_type": "execute_result"
    }
   ],
   "source": [
    "len(SellPrices)"
   ]
  },
  {
   "cell_type": "code",
   "execution_count": 67,
   "id": "bc8d2831",
   "metadata": {},
   "outputs": [
    {
     "ename": "KeyError",
     "evalue": "0",
     "output_type": "error",
     "traceback": [
      "\u001b[1;31m---------------------------------------------------------------------------\u001b[0m",
      "\u001b[1;31mKeyError\u001b[0m                                  Traceback (most recent call last)",
      "File \u001b[1;32m~\\.pyenv\\pyenv-win\\versions\\3.10.0\\lib\\site-packages\\pandas\\core\\indexes\\base.py:3629\u001b[0m, in \u001b[0;36mIndex.get_loc\u001b[1;34m(self, key, method, tolerance)\u001b[0m\n\u001b[0;32m   3628\u001b[0m \u001b[38;5;28;01mtry\u001b[39;00m:\n\u001b[1;32m-> 3629\u001b[0m     \u001b[38;5;28;01mreturn\u001b[39;00m \u001b[38;5;28;43mself\u001b[39;49m\u001b[38;5;241;43m.\u001b[39;49m\u001b[43m_engine\u001b[49m\u001b[38;5;241;43m.\u001b[39;49m\u001b[43mget_loc\u001b[49m\u001b[43m(\u001b[49m\u001b[43mcasted_key\u001b[49m\u001b[43m)\u001b[49m\n\u001b[0;32m   3630\u001b[0m \u001b[38;5;28;01mexcept\u001b[39;00m \u001b[38;5;167;01mKeyError\u001b[39;00m \u001b[38;5;28;01mas\u001b[39;00m err:\n",
      "File \u001b[1;32m~\\.pyenv\\pyenv-win\\versions\\3.10.0\\lib\\site-packages\\pandas\\_libs\\index.pyx:136\u001b[0m, in \u001b[0;36mpandas._libs.index.IndexEngine.get_loc\u001b[1;34m()\u001b[0m\n",
      "File \u001b[1;32m~\\.pyenv\\pyenv-win\\versions\\3.10.0\\lib\\site-packages\\pandas\\_libs\\index.pyx:163\u001b[0m, in \u001b[0;36mpandas._libs.index.IndexEngine.get_loc\u001b[1;34m()\u001b[0m\n",
      "File \u001b[1;32mpandas\\_libs\\hashtable_class_helper.pxi:2131\u001b[0m, in \u001b[0;36mpandas._libs.hashtable.Int64HashTable.get_item\u001b[1;34m()\u001b[0m\n",
      "File \u001b[1;32mpandas\\_libs\\hashtable_class_helper.pxi:2140\u001b[0m, in \u001b[0;36mpandas._libs.hashtable.Int64HashTable.get_item\u001b[1;34m()\u001b[0m\n",
      "\u001b[1;31mKeyError\u001b[0m: 0",
      "\nThe above exception was the direct cause of the following exception:\n",
      "\u001b[1;31mKeyError\u001b[0m                                  Traceback (most recent call last)",
      "Cell \u001b[1;32mIn [67], line 4\u001b[0m\n\u001b[0;32m      1\u001b[0m profitsrel \u001b[38;5;241m=\u001b[39m []\n\u001b[0;32m      3\u001b[0m \u001b[38;5;28;01mfor\u001b[39;00m i \u001b[38;5;129;01min\u001b[39;00m \u001b[38;5;28mrange\u001b[39m(\u001b[38;5;28mlen\u001b[39m(SellPrices)):\n\u001b[1;32m----> 4\u001b[0m     profitsrel\u001b[38;5;241m.\u001b[39mappend((\u001b[43mSellPrices\u001b[49m\u001b[43m[\u001b[49m\u001b[43mi\u001b[49m\u001b[43m]\u001b[49m\u001b[38;5;241m-\u001b[39mBuyPrices[i])\u001b[38;5;241m/\u001b[39mBuyPrices[i])\n",
      "File \u001b[1;32m~\\.pyenv\\pyenv-win\\versions\\3.10.0\\lib\\site-packages\\pandas\\core\\series.py:958\u001b[0m, in \u001b[0;36mSeries.__getitem__\u001b[1;34m(self, key)\u001b[0m\n\u001b[0;32m    955\u001b[0m     \u001b[38;5;28;01mreturn\u001b[39;00m \u001b[38;5;28mself\u001b[39m\u001b[38;5;241m.\u001b[39m_values[key]\n\u001b[0;32m    957\u001b[0m \u001b[38;5;28;01melif\u001b[39;00m key_is_scalar:\n\u001b[1;32m--> 958\u001b[0m     \u001b[38;5;28;01mreturn\u001b[39;00m \u001b[38;5;28;43mself\u001b[39;49m\u001b[38;5;241;43m.\u001b[39;49m\u001b[43m_get_value\u001b[49m\u001b[43m(\u001b[49m\u001b[43mkey\u001b[49m\u001b[43m)\u001b[49m\n\u001b[0;32m    960\u001b[0m \u001b[38;5;28;01mif\u001b[39;00m is_hashable(key):\n\u001b[0;32m    961\u001b[0m     \u001b[38;5;66;03m# Otherwise index.get_value will raise InvalidIndexError\u001b[39;00m\n\u001b[0;32m    962\u001b[0m     \u001b[38;5;28;01mtry\u001b[39;00m:\n\u001b[0;32m    963\u001b[0m         \u001b[38;5;66;03m# For labels that don't resolve as scalars like tuples and frozensets\u001b[39;00m\n",
      "File \u001b[1;32m~\\.pyenv\\pyenv-win\\versions\\3.10.0\\lib\\site-packages\\pandas\\core\\series.py:1069\u001b[0m, in \u001b[0;36mSeries._get_value\u001b[1;34m(self, label, takeable)\u001b[0m\n\u001b[0;32m   1066\u001b[0m     \u001b[38;5;28;01mreturn\u001b[39;00m \u001b[38;5;28mself\u001b[39m\u001b[38;5;241m.\u001b[39m_values[label]\n\u001b[0;32m   1068\u001b[0m \u001b[38;5;66;03m# Similar to Index.get_value, but we do not fall back to positional\u001b[39;00m\n\u001b[1;32m-> 1069\u001b[0m loc \u001b[38;5;241m=\u001b[39m \u001b[38;5;28;43mself\u001b[39;49m\u001b[38;5;241;43m.\u001b[39;49m\u001b[43mindex\u001b[49m\u001b[38;5;241;43m.\u001b[39;49m\u001b[43mget_loc\u001b[49m\u001b[43m(\u001b[49m\u001b[43mlabel\u001b[49m\u001b[43m)\u001b[49m\n\u001b[0;32m   1070\u001b[0m \u001b[38;5;28;01mreturn\u001b[39;00m \u001b[38;5;28mself\u001b[39m\u001b[38;5;241m.\u001b[39mindex\u001b[38;5;241m.\u001b[39m_get_values_for_loc(\u001b[38;5;28mself\u001b[39m, loc, label)\n",
      "File \u001b[1;32m~\\.pyenv\\pyenv-win\\versions\\3.10.0\\lib\\site-packages\\pandas\\core\\indexes\\base.py:3631\u001b[0m, in \u001b[0;36mIndex.get_loc\u001b[1;34m(self, key, method, tolerance)\u001b[0m\n\u001b[0;32m   3629\u001b[0m     \u001b[38;5;28;01mreturn\u001b[39;00m \u001b[38;5;28mself\u001b[39m\u001b[38;5;241m.\u001b[39m_engine\u001b[38;5;241m.\u001b[39mget_loc(casted_key)\n\u001b[0;32m   3630\u001b[0m \u001b[38;5;28;01mexcept\u001b[39;00m \u001b[38;5;167;01mKeyError\u001b[39;00m \u001b[38;5;28;01mas\u001b[39;00m err:\n\u001b[1;32m-> 3631\u001b[0m     \u001b[38;5;28;01mraise\u001b[39;00m \u001b[38;5;167;01mKeyError\u001b[39;00m(key) \u001b[38;5;28;01mfrom\u001b[39;00m \u001b[38;5;21;01merr\u001b[39;00m\n\u001b[0;32m   3632\u001b[0m \u001b[38;5;28;01mexcept\u001b[39;00m \u001b[38;5;167;01mTypeError\u001b[39;00m:\n\u001b[0;32m   3633\u001b[0m     \u001b[38;5;66;03m# If we have a listlike key, _check_indexing_error will raise\u001b[39;00m\n\u001b[0;32m   3634\u001b[0m     \u001b[38;5;66;03m#  InvalidIndexError. Otherwise we fall through and re-raise\u001b[39;00m\n\u001b[0;32m   3635\u001b[0m     \u001b[38;5;66;03m#  the TypeError.\u001b[39;00m\n\u001b[0;32m   3636\u001b[0m     \u001b[38;5;28mself\u001b[39m\u001b[38;5;241m.\u001b[39m_check_indexing_error(key)\n",
      "\u001b[1;31mKeyError\u001b[0m: 0"
     ]
    }
   ],
   "source": [
    "profitsrel = []\n",
    "\n",
    "for i in range(len(SellPrices)):\n",
    "    profitsrel.append((SellPrices[i]-BuyPrices[i])/BuyPrices[i])"
   ]
  },
  {
   "cell_type": "code",
   "execution_count": null,
   "id": "7d7ff16e",
   "metadata": {},
   "outputs": [],
   "source": []
  }
 ],
 "metadata": {
  "kernelspec": {
   "display_name": "Python 3 (ipykernel)",
   "language": "python",
   "name": "python3"
  },
  "language_info": {
   "codemirror_mode": {
    "name": "ipython",
    "version": 3
   },
   "file_extension": ".py",
   "mimetype": "text/x-python",
   "name": "python",
   "nbconvert_exporter": "python",
   "pygments_lexer": "ipython3",
   "version": "3.10.0"
  }
 },
 "nbformat": 4,
 "nbformat_minor": 5
}
